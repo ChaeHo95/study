{
 "cells": [
  {
   "cell_type": "code",
   "execution_count": 1,
   "id": "254947f6",
   "metadata": {},
   "outputs": [],
   "source": [
    "from pymongo import MongoClient"
   ]
  },
  {
   "cell_type": "code",
   "execution_count": 2,
   "id": "45d88c60",
   "metadata": {},
   "outputs": [],
   "source": [
    "client = MongoClient('localhost',27017)\n",
    "# client = MongoClient('mongodb://localhost:27017')"
   ]
  },
  {
   "cell_type": "code",
   "execution_count": 3,
   "id": "003ef3fb",
   "metadata": {},
   "outputs": [],
   "source": [
    "db = client['test-database']\n",
    "# db = client.test_database"
   ]
  },
  {
   "cell_type": "code",
   "execution_count": 4,
   "id": "56d31256",
   "metadata": {},
   "outputs": [],
   "source": [
    "collection = db['test_collection']\n",
    "#collection = db.test_collection"
   ]
  },
  {
   "cell_type": "code",
   "execution_count": 5,
   "id": "c96920f2",
   "metadata": {},
   "outputs": [],
   "source": [
    "data_dic = {'name':'홍길동','age':17}"
   ]
  },
  {
   "cell_type": "code",
   "execution_count": 6,
   "id": "bbca213a",
   "metadata": {},
   "outputs": [],
   "source": [
    "re_data_dic = collection.insert_one(data_dic)"
   ]
  },
  {
   "cell_type": "code",
   "execution_count": 7,
   "id": "4f8b5d39",
   "metadata": {},
   "outputs": [
    {
     "data": {
      "text/plain": [
       "<pymongo.results.InsertOneResult at 0x1d08e308c00>"
      ]
     },
     "execution_count": 7,
     "metadata": {},
     "output_type": "execute_result"
    }
   ],
   "source": [
    "re_data_dic"
   ]
  },
  {
   "cell_type": "code",
   "execution_count": 8,
   "id": "ac6c607f",
   "metadata": {},
   "outputs": [
    {
     "data": {
      "text/plain": [
       "ObjectId('61fdfac46ca8ae1e2e00e36a')"
      ]
     },
     "execution_count": 8,
     "metadata": {},
     "output_type": "execute_result"
    }
   ],
   "source": [
    "re_data_dic.inserted_id"
   ]
  },
  {
   "cell_type": "code",
   "execution_count": 9,
   "id": "3949596c",
   "metadata": {},
   "outputs": [],
   "source": [
    "data_dic2 = {'name':'김길동','age':28}"
   ]
  },
  {
   "cell_type": "code",
   "execution_count": 10,
   "id": "212848b4",
   "metadata": {},
   "outputs": [],
   "source": [
    "re_data_dic2 = collection.insert_one(data_dic2)"
   ]
  },
  {
   "cell_type": "code",
   "execution_count": 11,
   "id": "5a936bae",
   "metadata": {},
   "outputs": [
    {
     "data": {
      "text/plain": [
       "{'name': '김길동', 'age': 28, '_id': ObjectId('61fdfac46ca8ae1e2e00e36b')}"
      ]
     },
     "execution_count": 11,
     "metadata": {},
     "output_type": "execute_result"
    }
   ],
   "source": [
    "data_dic2 "
   ]
  },
  {
   "cell_type": "code",
   "execution_count": 12,
   "id": "c382d942",
   "metadata": {},
   "outputs": [
    {
     "data": {
      "text/plain": [
       "ObjectId('61fdfac46ca8ae1e2e00e36b')"
      ]
     },
     "execution_count": 12,
     "metadata": {},
     "output_type": "execute_result"
    }
   ],
   "source": [
    "re_data_dic2.inserted_id"
   ]
  },
  {
   "cell_type": "code",
   "execution_count": 13,
   "id": "723b91f5",
   "metadata": {},
   "outputs": [],
   "source": [
    "data_list = [\n",
    "    {'name':'이길동','age':25},\n",
    "    {'name':'박길동','age':31},\n",
    "    {'name':'정길동','age':35}\n",
    "]"
   ]
  },
  {
   "cell_type": "code",
   "execution_count": 14,
   "id": "6c294dcd",
   "metadata": {},
   "outputs": [],
   "source": [
    "re_data_dic3 = collection.insert_many(data_list)"
   ]
  },
  {
   "cell_type": "code",
   "execution_count": 15,
   "id": "045cc462",
   "metadata": {},
   "outputs": [
    {
     "data": {
      "text/plain": [
       "<pymongo.results.InsertManyResult at 0x1d08e602600>"
      ]
     },
     "execution_count": 15,
     "metadata": {},
     "output_type": "execute_result"
    }
   ],
   "source": [
    "re_data_dic3 "
   ]
  },
  {
   "cell_type": "code",
   "execution_count": 16,
   "id": "69b58c78",
   "metadata": {},
   "outputs": [
    {
     "data": {
      "text/plain": [
       "[ObjectId('61fdfac46ca8ae1e2e00e36c'),\n",
       " ObjectId('61fdfac46ca8ae1e2e00e36d'),\n",
       " ObjectId('61fdfac46ca8ae1e2e00e36e')]"
      ]
     },
     "execution_count": 16,
     "metadata": {},
     "output_type": "execute_result"
    }
   ],
   "source": [
    "re_data_dic3.inserted_ids"
   ]
  },
  {
   "cell_type": "code",
   "execution_count": 17,
   "id": "264a7cdc",
   "metadata": {},
   "outputs": [],
   "source": [
    "search_results = collection.find_one()"
   ]
  },
  {
   "cell_type": "code",
   "execution_count": 18,
   "id": "4bf5a996",
   "metadata": {},
   "outputs": [
    {
     "data": {
      "text/plain": [
       "dict"
      ]
     },
     "execution_count": 18,
     "metadata": {},
     "output_type": "execute_result"
    }
   ],
   "source": [
    "type(search_results)"
   ]
  },
  {
   "cell_type": "code",
   "execution_count": 19,
   "id": "fb7623d4",
   "metadata": {},
   "outputs": [
    {
     "data": {
      "text/plain": [
       "{'_id': ObjectId('61fdfac46ca8ae1e2e00e36a'), 'name': '홍길동', 'age': 17}"
      ]
     },
     "execution_count": 19,
     "metadata": {},
     "output_type": "execute_result"
    }
   ],
   "source": [
    "search_results"
   ]
  },
  {
   "cell_type": "code",
   "execution_count": 20,
   "id": "cfc43211",
   "metadata": {},
   "outputs": [],
   "source": [
    "search_results = collection.find()"
   ]
  },
  {
   "cell_type": "code",
   "execution_count": 21,
   "id": "f446293f",
   "metadata": {},
   "outputs": [
    {
     "data": {
      "text/plain": [
       "pymongo.cursor.Cursor"
      ]
     },
     "execution_count": 21,
     "metadata": {},
     "output_type": "execute_result"
    }
   ],
   "source": [
    "type(search_results)"
   ]
  },
  {
   "cell_type": "code",
   "execution_count": 22,
   "id": "ded86254",
   "metadata": {},
   "outputs": [
    {
     "data": {
      "text/plain": [
       "<pymongo.cursor.Cursor at 0x1d08f8f8cd0>"
      ]
     },
     "execution_count": 22,
     "metadata": {},
     "output_type": "execute_result"
    }
   ],
   "source": [
    "search_results"
   ]
  },
  {
   "cell_type": "code",
   "execution_count": 23,
   "id": "d07a4adb",
   "metadata": {},
   "outputs": [
    {
     "name": "stdout",
     "output_type": "stream",
     "text": [
      "{'_id': ObjectId('61fdfac46ca8ae1e2e00e36a'), 'name': '홍길동', 'age': 17}\n",
      "{'_id': ObjectId('61fdfac46ca8ae1e2e00e36b'), 'name': '김길동', 'age': 28}\n",
      "{'_id': ObjectId('61fdfac46ca8ae1e2e00e36c'), 'name': '이길동', 'age': 25}\n",
      "{'_id': ObjectId('61fdfac46ca8ae1e2e00e36d'), 'name': '박길동', 'age': 31}\n",
      "{'_id': ObjectId('61fdfac46ca8ae1e2e00e36e'), 'name': '정길동', 'age': 35}\n"
     ]
    }
   ],
   "source": [
    "for search_result in search_results:\n",
    "    print(search_result )"
   ]
  },
  {
   "cell_type": "code",
   "execution_count": 24,
   "id": "5d8bbbe1",
   "metadata": {},
   "outputs": [],
   "source": [
    "# where name = '홍길동'\n",
    "search_results = collection.find({'name':'홍길동'})"
   ]
  },
  {
   "cell_type": "code",
   "execution_count": 25,
   "id": "1a9db70a",
   "metadata": {},
   "outputs": [
    {
     "data": {
      "text/plain": [
       "<pymongo.cursor.Cursor at 0x1d08f905a90>"
      ]
     },
     "execution_count": 25,
     "metadata": {},
     "output_type": "execute_result"
    }
   ],
   "source": [
    "search_results"
   ]
  },
  {
   "cell_type": "code",
   "execution_count": 26,
   "id": "4f4f2bd9",
   "metadata": {},
   "outputs": [
    {
     "name": "stdout",
     "output_type": "stream",
     "text": [
      "{'_id': ObjectId('61fdfac46ca8ae1e2e00e36a'), 'name': '홍길동', 'age': 17}\n"
     ]
    }
   ],
   "source": [
    "for search_result in search_results:\n",
    "    print(search_result)"
   ]
  },
  {
   "cell_type": "code",
   "execution_count": 27,
   "id": "bae0f487",
   "metadata": {},
   "outputs": [],
   "source": [
    "# where name = '홍길동' ,'age':17\n",
    "search_results = collection.find({'name':'홍길동','age':17})"
   ]
  },
  {
   "cell_type": "code",
   "execution_count": 28,
   "id": "e6fdb1a4",
   "metadata": {},
   "outputs": [
    {
     "name": "stdout",
     "output_type": "stream",
     "text": [
      "{'_id': ObjectId('61fdfac46ca8ae1e2e00e36a'), 'name': '홍길동', 'age': 17}\n"
     ]
    }
   ],
   "source": [
    "for search_result in search_results:\n",
    "    print(search_result)"
   ]
  },
  {
   "cell_type": "code",
   "execution_count": 29,
   "id": "acff087e",
   "metadata": {},
   "outputs": [],
   "source": [
    "#where age > 17\n",
    "search_results = collection.find({'age':{'$gt':17}})"
   ]
  },
  {
   "cell_type": "code",
   "execution_count": 30,
   "id": "657d6bd6",
   "metadata": {},
   "outputs": [
    {
     "name": "stdout",
     "output_type": "stream",
     "text": [
      "{'_id': ObjectId('61fdfac46ca8ae1e2e00e36b'), 'name': '김길동', 'age': 28}\n",
      "{'_id': ObjectId('61fdfac46ca8ae1e2e00e36c'), 'name': '이길동', 'age': 25}\n",
      "{'_id': ObjectId('61fdfac46ca8ae1e2e00e36d'), 'name': '박길동', 'age': 31}\n",
      "{'_id': ObjectId('61fdfac46ca8ae1e2e00e36e'), 'name': '정길동', 'age': 35}\n"
     ]
    }
   ],
   "source": [
    "for search_result in search_results:\n",
    "    print(search_result)"
   ]
  },
  {
   "cell_type": "code",
   "execution_count": 31,
   "id": "f1f6b396",
   "metadata": {},
   "outputs": [],
   "source": [
    "#where age > =17\n",
    "search_results = collection.find({'age':{'$gte':17}})"
   ]
  },
  {
   "cell_type": "code",
   "execution_count": 32,
   "id": "a24b2f0c",
   "metadata": {},
   "outputs": [
    {
     "name": "stdout",
     "output_type": "stream",
     "text": [
      "{'_id': ObjectId('61fdfac46ca8ae1e2e00e36a'), 'name': '홍길동', 'age': 17}\n",
      "{'_id': ObjectId('61fdfac46ca8ae1e2e00e36b'), 'name': '김길동', 'age': 28}\n",
      "{'_id': ObjectId('61fdfac46ca8ae1e2e00e36c'), 'name': '이길동', 'age': 25}\n",
      "{'_id': ObjectId('61fdfac46ca8ae1e2e00e36d'), 'name': '박길동', 'age': 31}\n",
      "{'_id': ObjectId('61fdfac46ca8ae1e2e00e36e'), 'name': '정길동', 'age': 35}\n"
     ]
    }
   ],
   "source": [
    "for search_result in search_results:\n",
    "    print(search_result)"
   ]
  },
  {
   "cell_type": "code",
   "execution_count": 33,
   "id": "ee77ae34",
   "metadata": {},
   "outputs": [],
   "source": [
    "#where age < 28\n",
    "search_results = collection.find({'age':{'$lt':28}})"
   ]
  },
  {
   "cell_type": "code",
   "execution_count": 34,
   "id": "62673490",
   "metadata": {},
   "outputs": [
    {
     "name": "stdout",
     "output_type": "stream",
     "text": [
      "{'_id': ObjectId('61fdfac46ca8ae1e2e00e36a'), 'name': '홍길동', 'age': 17}\n",
      "{'_id': ObjectId('61fdfac46ca8ae1e2e00e36c'), 'name': '이길동', 'age': 25}\n"
     ]
    }
   ],
   "source": [
    "for search_result in search_results:\n",
    "    print(search_result)"
   ]
  },
  {
   "cell_type": "code",
   "execution_count": 35,
   "id": "5977ac60",
   "metadata": {},
   "outputs": [],
   "source": [
    "#where age <= 28\n",
    "search_results = collection.find({'age':{'$lte':28}})"
   ]
  },
  {
   "cell_type": "code",
   "execution_count": 36,
   "id": "9e7c3abc",
   "metadata": {},
   "outputs": [
    {
     "name": "stdout",
     "output_type": "stream",
     "text": [
      "{'_id': ObjectId('61fdfac46ca8ae1e2e00e36a'), 'name': '홍길동', 'age': 17}\n",
      "{'_id': ObjectId('61fdfac46ca8ae1e2e00e36b'), 'name': '김길동', 'age': 28}\n",
      "{'_id': ObjectId('61fdfac46ca8ae1e2e00e36c'), 'name': '이길동', 'age': 25}\n"
     ]
    }
   ],
   "source": [
    "for search_result in search_results:\n",
    "    print(search_result)"
   ]
  },
  {
   "cell_type": "code",
   "execution_count": 37,
   "id": "feaf0f71",
   "metadata": {},
   "outputs": [],
   "source": [
    "#where name != '홍길동'\n",
    "search_results = collection.find({'name':{'$ne':'홍길동'}})"
   ]
  },
  {
   "cell_type": "code",
   "execution_count": 38,
   "id": "d6145167",
   "metadata": {},
   "outputs": [
    {
     "name": "stdout",
     "output_type": "stream",
     "text": [
      "{'_id': ObjectId('61fdfac46ca8ae1e2e00e36b'), 'name': '김길동', 'age': 28}\n",
      "{'_id': ObjectId('61fdfac46ca8ae1e2e00e36c'), 'name': '이길동', 'age': 25}\n",
      "{'_id': ObjectId('61fdfac46ca8ae1e2e00e36d'), 'name': '박길동', 'age': 31}\n",
      "{'_id': ObjectId('61fdfac46ca8ae1e2e00e36e'), 'name': '정길동', 'age': 35}\n"
     ]
    }
   ],
   "source": [
    "for search_result in search_results:\n",
    "    print(search_result)"
   ]
  },
  {
   "cell_type": "code",
   "execution_count": 43,
   "id": "25343e30",
   "metadata": {},
   "outputs": [],
   "source": [
    "# select name from ... where age > 17\n",
    "search_results = collection.find({'age':{'$gt':17}},{'name':1})"
   ]
  },
  {
   "cell_type": "code",
   "execution_count": 44,
   "id": "816183f6",
   "metadata": {},
   "outputs": [
    {
     "name": "stdout",
     "output_type": "stream",
     "text": [
      "{'_id': ObjectId('61fdfac46ca8ae1e2e00e36b'), 'name': '김길동'}\n",
      "{'_id': ObjectId('61fdfac46ca8ae1e2e00e36c'), 'name': '이길동'}\n",
      "{'_id': ObjectId('61fdfac46ca8ae1e2e00e36d'), 'name': '박길동'}\n",
      "{'_id': ObjectId('61fdfac46ca8ae1e2e00e36e'), 'name': '정길동'}\n"
     ]
    }
   ],
   "source": [
    "for search_result in search_results:\n",
    "    print(search_result)"
   ]
  },
  {
   "cell_type": "code",
   "execution_count": 47,
   "id": "37dc8053",
   "metadata": {},
   "outputs": [],
   "source": [
    "# select name from __ where age > 17\n",
    "search_results = collection.find({'age':{'$gt':17}},{'name':1,'_id':0})"
   ]
  },
  {
   "cell_type": "code",
   "execution_count": 48,
   "id": "f5aa5e1f",
   "metadata": {},
   "outputs": [
    {
     "name": "stdout",
     "output_type": "stream",
     "text": [
      "{'name': '김길동'}\n",
      "{'name': '이길동'}\n",
      "{'name': '박길동'}\n",
      "{'name': '정길동'}\n"
     ]
    }
   ],
   "source": [
    "for search_result in search_results:\n",
    "    print(search_result)"
   ]
  },
  {
   "cell_type": "code",
   "execution_count": 72,
   "id": "e2ed1eb5",
   "metadata": {},
   "outputs": [
    {
     "data": {
      "text/plain": [
       "<pymongo.results.UpdateResult at 0x1d08f9e4780>"
      ]
     },
     "execution_count": 72,
     "metadata": {},
     "output_type": "execute_result"
    }
   ],
   "source": [
    "collection.update_one({'name':'홍길동'},{'$set':{'age':18}})"
   ]
  },
  {
   "cell_type": "code",
   "execution_count": 73,
   "id": "420a4684",
   "metadata": {},
   "outputs": [
    {
     "name": "stdout",
     "output_type": "stream",
     "text": [
      "{'_id': ObjectId('61fdfac46ca8ae1e2e00e36a'), 'name': '홍길동', 'age': 18}\n"
     ]
    }
   ],
   "source": [
    "search_results = collection.find({'name':'홍길동'})\n",
    "for search_result in search_results:\n",
    "    print(search_result)"
   ]
  },
  {
   "cell_type": "code",
   "execution_count": 76,
   "id": "8761d75e",
   "metadata": {},
   "outputs": [
    {
     "data": {
      "text/plain": [
       "<pymongo.results.UpdateResult at 0x1d08f98bb40>"
      ]
     },
     "execution_count": 76,
     "metadata": {},
     "output_type": "execute_result"
    }
   ],
   "source": [
    "collection.update_many({'age':{'$gt':30}},{'$set':{'age':31}})"
   ]
  },
  {
   "cell_type": "code",
   "execution_count": 77,
   "id": "2e2f8cd3",
   "metadata": {},
   "outputs": [
    {
     "name": "stdout",
     "output_type": "stream",
     "text": [
      "{'_id': ObjectId('61fdfac46ca8ae1e2e00e36a'), 'name': '홍길동', 'age': 18}\n",
      "{'_id': ObjectId('61fdfac46ca8ae1e2e00e36b'), 'name': '김길동', 'age': 28}\n",
      "{'_id': ObjectId('61fdfac46ca8ae1e2e00e36c'), 'name': '이길동', 'age': 25}\n",
      "{'_id': ObjectId('61fdfac46ca8ae1e2e00e36d'), 'name': '박길동', 'age': 31}\n",
      "{'_id': ObjectId('61fdfac46ca8ae1e2e00e36e'), 'name': '정길동', 'age': 31}\n"
     ]
    }
   ],
   "source": [
    "search_results = collection.find()\n",
    "for search_result in search_results:\n",
    "    print(search_result)"
   ]
  },
  {
   "cell_type": "code",
   "execution_count": 78,
   "id": "9f5abfa0",
   "metadata": {},
   "outputs": [
    {
     "name": "stdout",
     "output_type": "stream",
     "text": [
      "{'_id': ObjectId('61fdfac46ca8ae1e2e00e36d'), 'name': '박길동', 'age': 31}\n",
      "{'_id': ObjectId('61fdfac46ca8ae1e2e00e36e'), 'name': '정길동', 'age': 31}\n"
     ]
    }
   ],
   "source": [
    "search_results = collection.find({'age':{'$gt':30}})\n",
    "for search_result in search_results:\n",
    "    print(search_result)"
   ]
  },
  {
   "cell_type": "code",
   "execution_count": 79,
   "id": "c471b4b0",
   "metadata": {},
   "outputs": [
    {
     "data": {
      "text/plain": [
       "<pymongo.results.DeleteResult at 0x1d08f98b2c0>"
      ]
     },
     "execution_count": 79,
     "metadata": {},
     "output_type": "execute_result"
    }
   ],
   "source": [
    "collection.delete_one({'name':'홍길동'})"
   ]
  },
  {
   "cell_type": "code",
   "execution_count": 80,
   "id": "b7c876fb",
   "metadata": {},
   "outputs": [
    {
     "name": "stdout",
     "output_type": "stream",
     "text": [
      "{'_id': ObjectId('61fdfac46ca8ae1e2e00e36b'), 'name': '김길동', 'age': 28}\n",
      "{'_id': ObjectId('61fdfac46ca8ae1e2e00e36c'), 'name': '이길동', 'age': 25}\n",
      "{'_id': ObjectId('61fdfac46ca8ae1e2e00e36d'), 'name': '박길동', 'age': 31}\n",
      "{'_id': ObjectId('61fdfac46ca8ae1e2e00e36e'), 'name': '정길동', 'age': 31}\n"
     ]
    }
   ],
   "source": [
    "search_results = collection.find()\n",
    "for search_result in search_results:\n",
    "    print(search_result)"
   ]
  },
  {
   "cell_type": "code",
   "execution_count": 81,
   "id": "ba0b46b1",
   "metadata": {},
   "outputs": [
    {
     "data": {
      "text/plain": [
       "<pymongo.results.DeleteResult at 0x1d08f8cd380>"
      ]
     },
     "execution_count": 81,
     "metadata": {},
     "output_type": "execute_result"
    }
   ],
   "source": [
    "collection.delete_many({'age':{'$gte':30}})"
   ]
  },
  {
   "cell_type": "code",
   "execution_count": 82,
   "id": "c699b422",
   "metadata": {},
   "outputs": [
    {
     "name": "stdout",
     "output_type": "stream",
     "text": [
      "{'_id': ObjectId('61fdfac46ca8ae1e2e00e36b'), 'name': '김길동', 'age': 28}\n",
      "{'_id': ObjectId('61fdfac46ca8ae1e2e00e36c'), 'name': '이길동', 'age': 25}\n"
     ]
    }
   ],
   "source": [
    "search_results = collection.find()\n",
    "for search_result in search_results:\n",
    "    print(search_result)"
   ]
  },
  {
   "cell_type": "code",
   "execution_count": null,
   "id": "32730273",
   "metadata": {},
   "outputs": [],
   "source": []
  }
 ],
 "metadata": {
  "kernelspec": {
   "display_name": "Python 3 (ipykernel)",
   "language": "python",
   "name": "python3"
  },
  "language_info": {
   "codemirror_mode": {
    "name": "ipython",
    "version": 3
   },
   "file_extension": ".py",
   "mimetype": "text/x-python",
   "name": "python",
   "nbconvert_exporter": "python",
   "pygments_lexer": "ipython3",
   "version": "3.9.7"
  }
 },
 "nbformat": 4,
 "nbformat_minor": 5
}
