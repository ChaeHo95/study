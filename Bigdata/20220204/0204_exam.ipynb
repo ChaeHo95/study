{
 "cells": [
  {
   "cell_type": "markdown",
   "id": "2db35226",
   "metadata": {},
   "source": [
    "# 2.2) 트위터 API로 연관 키워드 분석하기"
   ]
  },
  {
   "cell_type": "markdown",
   "id": "73ee79b9",
   "metadata": {},
   "source": [
    "- [<Step1. API 호출> : 트위터 API로 데이터 가져오기](#<Step1.-API-호출>-:-트위터-API로-데이터-가져오기)\n",
    "    - [API 데이터로 데이터 프레임 생성하기]\n",
    "- [<Step2. 추출> : 키워드 추출](#<Step2.-추출>-:-키워드-추출)\n",
    "    - [텍스트 데이터 전처리]\n",
    "    - [nltk, konlpy를 이용한 키워드 추출]\n",
    "- [<Step3. 분석> : 연관 분석을 이용한 키워드 분석](#<Step3.-분석>-:-연관-분석을-이용한-키워드-분석)\n",
    "    - [연관 키워드 추출하기]\n",
    "    - [단어 빈도 추출하기]\n",
    "- [<Step4. 시각화> : 연관 키워드 네트워크 시각화](#<Step4.-시각화>-:-연관-키워드-네트워크-시각화)\n",
    "    - [연관 키워드 네트워크 시각화]"
   ]
  },
  {
   "cell_type": "code",
   "execution_count": 1,
   "id": "a5ae06a8",
   "metadata": {},
   "outputs": [],
   "source": [
    "# -*- coding: utf-8 -*-\n",
    "\n",
    "# 주피터 노트북을 실행한 브라우저에서 바로 그림을 볼 수 있게끔 만드는 것\n",
    "#브라우저 내부(inline)에 바로 그려지도록 해주는 코드\n",
    "%matplotlib inline\n",
    "\n",
    "import pandas as pd\n",
    "import numpy as np\n",
    "import matplotlib.pyplot as plt\n",
    "\n",
    "import warnings\n",
    "warnings.filterwarnings(\"ignore\")"
   ]
  },
  {
   "cell_type": "markdown",
   "id": "50e24149",
   "metadata": {},
   "source": [
    "# <Step1. API 호출> : 트위터 API로 데이터 가져오기"
   ]
  },
  {
   "cell_type": "markdown",
   "id": "98b9129b",
   "metadata": {},
   "source": [
    "### [API 데이터로 데이터 프레임 생성하기]\n",
    "- anaconda prompt 혹은 Terminal에서 아래와 같은 패키지를 설치\n",
    "- (env_name) `pip install tweepy`"
   ]
  },
  {
   "cell_type": "code",
   "execution_count": 2,
   "id": "adbeb48a",
   "metadata": {},
   "outputs": [],
   "source": [
    "# tweepy 3 버전으로 설치\n",
    "#!pip install tweepy==3.10.0"
   ]
  },
  {
   "cell_type": "code",
   "execution_count": 3,
   "id": "d70b23c2",
   "metadata": {},
   "outputs": [
    {
     "data": {
      "text/plain": [
       "'3.10.0'"
      ]
     },
     "execution_count": 3,
     "metadata": {},
     "output_type": "execute_result"
    }
   ],
   "source": [
    "import tweepy\n",
    "tweepy.__version__"
   ]
  },
  {
   "cell_type": "code",
   "execution_count": 4,
   "id": "4447b19d",
   "metadata": {},
   "outputs": [],
   "source": [
    "# 발급 완료된 키 입력\n",
    "CONSUMER_KEY =\"1guUu16Re83rAexS7VhsCAQv0\"\n",
    "CONSUMER_SECRET =\"DMlEHpONvAo5ZPtpDt1wZPFrHplrQIYijOGgD2suu2p9HW0zQz\"\n",
    "ACCESS_TOKEN_KEY = \"169786640-wXppNaveQqbXzOkf6ls3Nt4QQPs04JQUZkoypIjv\"\n",
    "ACCESS_TOKEN_SECRET =\"9ubAWb5RKlIyREa3jc6NM6JUnLp8RILbieFrmEMRDONt0\" \n",
    "\n",
    "# 개인정보 인증을 요청하는 Handler\n",
    "auth = tweepy.OAuthHandler(CONSUMER_KEY, CONSUMER_SECRET)\n",
    "\n",
    "# 인증 요청을 수행\n",
    "auth.set_access_token(ACCESS_TOKEN_KEY, ACCESS_TOKEN_SECRET)\n",
    "\n",
    "# twitter API를 사용하기 위한 준비\n",
    "api = tweepy.API(auth)"
   ]
  },
  {
   "cell_type": "code",
   "execution_count": 5,
   "id": "1c4b33ea",
   "metadata": {},
   "outputs": [
    {
     "data": {
      "text/plain": [
       "<tweepy.auth.OAuthHandler at 0x1d2dd9c6820>"
      ]
     },
     "execution_count": 5,
     "metadata": {},
     "output_type": "execute_result"
    }
   ],
   "source": [
    "auth"
   ]
  },
  {
   "cell_type": "code",
   "execution_count": 6,
   "id": "0ef2b877",
   "metadata": {},
   "outputs": [
    {
     "data": {
      "text/plain": [
       "<tweepy.api.API at 0x1d2dd9c6dc0>"
      ]
     },
     "execution_count": 6,
     "metadata": {},
     "output_type": "execute_result"
    }
   ],
   "source": [
    "api"
   ]
  },
  {
   "cell_type": "markdown",
   "id": "624aea4f",
   "metadata": {},
   "source": [
    "#### '손흥민' 키워드 검색"
   ]
  },
  {
   "cell_type": "code",
   "execution_count": 7,
   "id": "fba879f0",
   "metadata": {},
   "outputs": [
    {
     "name": "stdout",
     "output_type": "stream",
     "text": [
      "RT @yonhaptweet: 한국 여자축구, 사상 첫 아시안컵 결승 진출…필리핀에 2-0 완승 https://t.co/COr0uBtKLS\n",
      "[{'screen_name': 'yonhaptweet', 'name': '연합뉴스', 'id': 147451838, 'id_str': '147451838', 'indices': [3, 15]}]\n",
      "[]\n",
      "2022-02-04 06:49:57\n",
      "RT @Jaemyung_Lee: &lt;한국 여자 축구가 31년 만에 아시안컵 결승에 진출했습니다. 축하드립니다. 월드컵 10회 연속 진출에 이은 쾌거입니다. 비인기종목의 설움에도 선수들이 보인 성과에 감복합니다. 결승전 선전을 기원합니다.&gt;\n",
      "https:…\n",
      "[{'screen_name': 'Jaemyung_Lee', 'name': '이재명', 'id': 106379129, 'id_str': '106379129', 'indices': [3, 16]}]\n",
      "[]\n",
      "2022-02-04 06:48:38\n",
      "RT @yonhaptweet: 한국 여자축구, 사상 첫 아시안컵 결승 진출…필리핀에 2-0 완승 https://t.co/COr0uBtKLS\n",
      "[{'screen_name': 'yonhaptweet', 'name': '연합뉴스', 'id': 147451838, 'id_str': '147451838', 'indices': [3, 15]}]\n",
      "[]\n",
      "2022-02-04 06:48:38\n",
      "RT @SBS8news: 한국 여자축구, 6일 중국과 아시안컵 결승…첫 우승 도전 #SBS뉴스 https://t.co/1MlGG3xpAr\n",
      "[{'screen_name': 'SBS8news', 'name': 'SBS 뉴스', 'id': 91946403, 'id_str': '91946403', 'indices': [3, 12]}]\n",
      "[{'text': 'SBS뉴스', 'indices': [46, 52]}]\n",
      "2022-02-04 06:47:41\n",
      "RT @KJH_officialtwt: [#HWANAIR]\n",
      "잠시 후 9시, JTBC #전설체전 에 재환이가 출연합니다. 축구돌 김째니 ⚽️ 발재간의 향연으로 모두를 당황시켰다 하는데?! 못하는 게 없는 재화니의 매력에 퐁당 빠져볼까요? (•‾̑⌔‾̑•…\n",
      "[{'screen_name': 'KJH_officialtwt', 'name': '김재환 KIM JAEHWAN', 'id': 1081073237465808896, 'id_str': '1081073237465808896', 'indices': [3, 19]}]\n",
      "[{'text': 'HWANAIR', 'indices': [22, 30]}, {'text': '전설체전', 'indices': [46, 51]}]\n",
      "2022-02-04 06:47:39\n",
      "RT @yonhaptweet: 한국 여자축구, 사상 첫 아시안컵 결승 진출…필리핀에 2-0 완승 https://t.co/COr0uBtKLS\n",
      "[{'screen_name': 'yonhaptweet', 'name': '연합뉴스', 'id': 147451838, 'id_str': '147451838', 'indices': [3, 15]}]\n",
      "[]\n",
      "2022-02-04 06:47:25\n",
      "RT @wikitree: [속보] 여자 축구가 일냈다…사상 첫 아시안컵 '결승' 진출 https://t.co/1uH3eEXbZl #위키트리\n",
      "[{'screen_name': 'wikitree', 'name': '위키트리 WIKITREE', 'id': 47856818, 'id_str': '47856818', 'indices': [3, 12]}]\n",
      "[{'text': '위키트리', 'indices': [72, 77]}]\n",
      "2022-02-04 06:47:07\n",
      "RT @yonhaptweet: 한국 여자축구, 사상 첫 아시안컵 결승 진출…필리핀에 2-0 완승 https://t.co/COr0uBtKLS\n",
      "[{'screen_name': 'yonhaptweet', 'name': '연합뉴스', 'id': 147451838, 'id_str': '147451838', 'indices': [3, 15]}]\n",
      "[]\n",
      "2022-02-04 06:46:55\n",
      "RT @SBS8news: 한국 여자축구, 6일 중국과 아시안컵 결승…첫 우승 도전 #SBS뉴스 https://t.co/1MlGG3xpAr\n",
      "[{'screen_name': 'SBS8news', 'name': 'SBS 뉴스', 'id': 91946403, 'id_str': '91946403', 'indices': [3, 12]}]\n",
      "[{'text': 'SBS뉴스', 'indices': [46, 52]}]\n",
      "2022-02-04 06:46:41\n",
      "패티쉬 \n",
      "만남어플 \n",
      "신던스타킹 \n",
      "축구축구선수\n",
      "울산 \n",
      "아줌마 \n",
      "동영상 \n",
      "애무 \n",
      "김제맛집 \n",
      "조건만남\n",
      "출장만남\n",
      "출장샵\n",
      " 54K9169790\n",
      "[]\n",
      "[]\n",
      "2022-02-04 06:46:30\n",
      "RT @yonhaptweet: 한국 여자축구, 사상 첫 아시안컵 결승 진출…필리핀에 2-0 완승 https://t.co/COr0uBtKLS\n",
      "[{'screen_name': 'yonhaptweet', 'name': '연합뉴스', 'id': 147451838, 'id_str': '147451838', 'indices': [3, 15]}]\n",
      "[]\n",
      "2022-02-04 06:45:52\n",
      "RT @98OE19: 축구하는 정우 https://t.co/gkA8IKSN4g\n",
      "[{'screen_name': '98OE19', 'name': '롱ღ', 'id': 1274107178970779649, 'id_str': '1274107178970779649', 'indices': [3, 10]}]\n",
      "[]\n",
      "2022-02-04 06:45:49\n",
      "댄스 팬티 오프레 걸그룹노출 공연의끝 파티쉐 여성 축구 원나잇 오피뉴 검스의계절 노출증 만남걸\n",
      " WC2QRIG86R2QI1A266\n",
      "[]\n",
      "[]\n",
      "2022-02-04 06:45:13\n",
      "고창출장ㅁㅏㅅㅏㅈㅣ\n",
      "경산훈녀\n",
      "모바일\n",
      "수원\n",
      "처인유흥업소\n",
      "골든차일드양도\n",
      "좋아요반사\n",
      "인스타친구\n",
      "일상\n",
      "부천영암군\n",
      "유러피안\n",
      "레터링\n",
      "번역망가\n",
      "축구분석\n",
      " 3IP31M3N5B7\n",
      "[]\n",
      "[]\n",
      "2022-02-04 06:44:57\n",
      "또 '바나나 사건' 발생..유럽축구는 인종차별과 '전쟁 중'\n",
      "[]\n",
      "[]\n",
      "2022-02-04 06:44:56\n"
     ]
    }
   ],
   "source": [
    "# twitter API를 사용하여 '손흥민' 이 포함된 트윗들을 크롤링한 뒤, 'user_mentions'와 'hashtags' 속성값 추출\n",
    "keyword = \"축구\"\n",
    "# 특정 키워드 크롤링은  search() 함수 수행, 결과가 리스트 형태로 출력\n",
    "tweets = api.search(keyword)\n",
    "# entities() 함수로 특정 속성의 메타데이터에 접근하여 정보 추출\n",
    "for tweet in tweets:\n",
    "    print(tweet.text)\n",
    "    print(tweet.entities['user_mentions']) # 사용자 댓글\n",
    "    print(tweet.entities['hashtags']) # 해시태그 \n",
    "    print(tweet.created_at) # 트윗이 생성된 UTC 시간"
   ]
  },
  {
   "cell_type": "markdown",
   "id": "0cbd312e",
   "metadata": {},
   "source": [
    "#### 데이터 프레임 형태로 수집"
   ]
  },
  {
   "cell_type": "code",
   "execution_count": 8,
   "id": "dda90f90",
   "metadata": {},
   "outputs": [
    {
     "data": {
      "text/html": [
       "<div>\n",
       "<style scoped>\n",
       "    .dataframe tbody tr th:only-of-type {\n",
       "        vertical-align: middle;\n",
       "    }\n",
       "\n",
       "    .dataframe tbody tr th {\n",
       "        vertical-align: top;\n",
       "    }\n",
       "\n",
       "    .dataframe thead th {\n",
       "        text-align: right;\n",
       "    }\n",
       "</style>\n",
       "<table border=\"1\" class=\"dataframe\">\n",
       "  <thead>\n",
       "    <tr style=\"text-align: right;\">\n",
       "      <th></th>\n",
       "      <th>created</th>\n",
       "      <th>tweet_text</th>\n",
       "    </tr>\n",
       "  </thead>\n",
       "  <tbody>\n",
       "    <tr>\n",
       "      <th>0</th>\n",
       "      <td>Fri Feb 04 06:49:57 +0000 2022</td>\n",
       "      <td>RT @yonhaptweet: 한국 여자축구, 사상 첫 아시안컵 결승 진출…필리핀에...</td>\n",
       "    </tr>\n",
       "    <tr>\n",
       "      <th>1</th>\n",
       "      <td>Fri Feb 04 06:48:38 +0000 2022</td>\n",
       "      <td>RT @Jaemyung_Lee: &amp;lt;한국 여자 축구가 31년 만에 아시안컵 결승...</td>\n",
       "    </tr>\n",
       "    <tr>\n",
       "      <th>2</th>\n",
       "      <td>Fri Feb 04 06:48:38 +0000 2022</td>\n",
       "      <td>RT @yonhaptweet: 한국 여자축구, 사상 첫 아시안컵 결승 진출…필리핀에...</td>\n",
       "    </tr>\n",
       "    <tr>\n",
       "      <th>3</th>\n",
       "      <td>Fri Feb 04 06:47:41 +0000 2022</td>\n",
       "      <td>RT @SBS8news: 한국 여자축구, 6일 중국과 아시안컵 결승…첫 우승 도전 ...</td>\n",
       "    </tr>\n",
       "    <tr>\n",
       "      <th>4</th>\n",
       "      <td>Fri Feb 04 06:47:39 +0000 2022</td>\n",
       "      <td>RT @KJH_officialtwt: [#HWANAIR]\\n잠시 후 9시, JTBC...</td>\n",
       "    </tr>\n",
       "  </tbody>\n",
       "</table>\n",
       "</div>"
      ],
      "text/plain": [
       "                          created  \\\n",
       "0  Fri Feb 04 06:49:57 +0000 2022   \n",
       "1  Fri Feb 04 06:48:38 +0000 2022   \n",
       "2  Fri Feb 04 06:48:38 +0000 2022   \n",
       "3  Fri Feb 04 06:47:41 +0000 2022   \n",
       "4  Fri Feb 04 06:47:39 +0000 2022   \n",
       "\n",
       "                                          tweet_text  \n",
       "0  RT @yonhaptweet: 한국 여자축구, 사상 첫 아시안컵 결승 진출…필리핀에...  \n",
       "1  RT @Jaemyung_Lee: &lt;한국 여자 축구가 31년 만에 아시안컵 결승...  \n",
       "2  RT @yonhaptweet: 한국 여자축구, 사상 첫 아시안컵 결승 진출…필리핀에...  \n",
       "3  RT @SBS8news: 한국 여자축구, 6일 중국과 아시안컵 결승…첫 우승 도전 ...  \n",
       "4  RT @KJH_officialtwt: [#HWANAIR]\\n잠시 후 9시, JTBC...  "
      ]
     },
     "execution_count": 8,
     "metadata": {},
     "output_type": "execute_result"
    }
   ],
   "source": [
    "# 크롤링된 데이터를 저장할 데이터 프레임 생성\n",
    "columns = ['created', 'tweet_text']\n",
    "df = pd.DataFrame(columns=columns)\n",
    "\n",
    "# 크롤링을 수행할 갯수를 입력\n",
    "max_tweets = 100\n",
    "\n",
    "# Cursor 객체를 사용하여 크롤링 수행\n",
    "searched_tweets = [status for status in tweepy.Cursor(api.search, q=keyword).items(max_tweets)]\n",
    "\n",
    "# ‘손흥민’이 포함된 1000개의 트윗들에서, ‘text’, ‘created_at’ 정보를 데이터 프레임으로 저장\n",
    "for tweet in searched_tweets:\n",
    "    tweet_json = tweet._json\n",
    "    tweet_text = tweet_json['text']\n",
    "    created = tweet_json['created_at']\n",
    "    row = [created, tweet_text]\n",
    "    series = pd.Series(row, index=df.columns) #  created, tweet_text로 시리즈를 생성\n",
    "    df = df.append(series, ignore_index=True) # 생성된 시리즈를 데이터프레임에 추가\n",
    "    \n",
    "# 데이터 프레임 상위 5개 출력\n",
    "df.head()"
   ]
  },
  {
   "cell_type": "code",
   "execution_count": 9,
   "id": "115945b5",
   "metadata": {},
   "outputs": [],
   "source": [
    "# 데이터 프레임을 csv 로 저장\n",
    "# df.to_csv(\"tweet_temp.csv\", index=False)"
   ]
  },
  {
   "cell_type": "markdown",
   "id": "037739a7",
   "metadata": {},
   "source": [
    "# <Step2. 추출> : 키워드 추출"
   ]
  },
  {
   "cell_type": "markdown",
   "id": "ec16a68c",
   "metadata": {},
   "source": [
    "### [텍스트 데이터 전처리]\n",
    "- 한글 문자열을 기준으로 키워드 추출 수행\n",
    "- tweet_text 데이터에서 한글 문자열만을 추출하여 ko_text 생성"
   ]
  },
  {
   "cell_type": "code",
   "execution_count": 10,
   "id": "f69b9e5e",
   "metadata": {},
   "outputs": [
    {
     "data": {
      "text/html": [
       "<div>\n",
       "<style scoped>\n",
       "    .dataframe tbody tr th:only-of-type {\n",
       "        vertical-align: middle;\n",
       "    }\n",
       "\n",
       "    .dataframe tbody tr th {\n",
       "        vertical-align: top;\n",
       "    }\n",
       "\n",
       "    .dataframe thead th {\n",
       "        text-align: right;\n",
       "    }\n",
       "</style>\n",
       "<table border=\"1\" class=\"dataframe\">\n",
       "  <thead>\n",
       "    <tr style=\"text-align: right;\">\n",
       "      <th></th>\n",
       "      <th>created</th>\n",
       "      <th>tweet_text</th>\n",
       "      <th>ko_text</th>\n",
       "    </tr>\n",
       "  </thead>\n",
       "  <tbody>\n",
       "    <tr>\n",
       "      <th>0</th>\n",
       "      <td>Fri Feb 04 06:49:57 +0000 2022</td>\n",
       "      <td>RT @yonhaptweet: 한국 여자축구, 사상 첫 아시안컵 결승 진출…필리핀에...</td>\n",
       "      <td>한국 여자축구 사상 첫 아시안컵 결승 진출필리핀에  완승</td>\n",
       "    </tr>\n",
       "    <tr>\n",
       "      <th>1</th>\n",
       "      <td>Fri Feb 04 06:48:38 +0000 2022</td>\n",
       "      <td>RT @Jaemyung_Lee: &amp;lt;한국 여자 축구가 31년 만에 아시안컵 결승...</td>\n",
       "      <td>한국 여자 축구가 년 만에 아시안컵 결승에 진출했습니다 축하드립니다 월드컵 회 ...</td>\n",
       "    </tr>\n",
       "    <tr>\n",
       "      <th>2</th>\n",
       "      <td>Fri Feb 04 06:48:38 +0000 2022</td>\n",
       "      <td>RT @yonhaptweet: 한국 여자축구, 사상 첫 아시안컵 결승 진출…필리핀에...</td>\n",
       "      <td>한국 여자축구 사상 첫 아시안컵 결승 진출필리핀에  완승</td>\n",
       "    </tr>\n",
       "    <tr>\n",
       "      <th>3</th>\n",
       "      <td>Fri Feb 04 06:47:41 +0000 2022</td>\n",
       "      <td>RT @SBS8news: 한국 여자축구, 6일 중국과 아시안컵 결승…첫 우승 도전 ...</td>\n",
       "      <td>한국 여자축구 일 중국과 아시안컵 결승첫 우승 도전 뉴스</td>\n",
       "    </tr>\n",
       "    <tr>\n",
       "      <th>4</th>\n",
       "      <td>Fri Feb 04 06:47:39 +0000 2022</td>\n",
       "      <td>RT @KJH_officialtwt: [#HWANAIR]\\n잠시 후 9시, JTBC...</td>\n",
       "      <td>잠시 후 시  전설체전 에 재환이가 출연합니다 축구돌 김째니  발재간의 향연으로...</td>\n",
       "    </tr>\n",
       "  </tbody>\n",
       "</table>\n",
       "</div>"
      ],
      "text/plain": [
       "                          created  \\\n",
       "0  Fri Feb 04 06:49:57 +0000 2022   \n",
       "1  Fri Feb 04 06:48:38 +0000 2022   \n",
       "2  Fri Feb 04 06:48:38 +0000 2022   \n",
       "3  Fri Feb 04 06:47:41 +0000 2022   \n",
       "4  Fri Feb 04 06:47:39 +0000 2022   \n",
       "\n",
       "                                          tweet_text  \\\n",
       "0  RT @yonhaptweet: 한국 여자축구, 사상 첫 아시안컵 결승 진출…필리핀에...   \n",
       "1  RT @Jaemyung_Lee: &lt;한국 여자 축구가 31년 만에 아시안컵 결승...   \n",
       "2  RT @yonhaptweet: 한국 여자축구, 사상 첫 아시안컵 결승 진출…필리핀에...   \n",
       "3  RT @SBS8news: 한국 여자축구, 6일 중국과 아시안컵 결승…첫 우승 도전 ...   \n",
       "4  RT @KJH_officialtwt: [#HWANAIR]\\n잠시 후 9시, JTBC...   \n",
       "\n",
       "                                             ko_text  \n",
       "0                   한국 여자축구 사상 첫 아시안컵 결승 진출필리핀에  완승   \n",
       "1    한국 여자 축구가 년 만에 아시안컵 결승에 진출했습니다 축하드립니다 월드컵 회 ...  \n",
       "2                   한국 여자축구 사상 첫 아시안컵 결승 진출필리핀에  완승   \n",
       "3                   한국 여자축구 일 중국과 아시안컵 결승첫 우승 도전 뉴스   \n",
       "4    잠시 후 시  전설체전 에 재환이가 출연합니다 축구돌 김째니  발재간의 향연으로...  "
      ]
     },
     "execution_count": 10,
     "metadata": {},
     "output_type": "execute_result"
    }
   ],
   "source": [
    "import re\n",
    "\n",
    "# 텍스트 정제 함수 : 한글 및 띄어쓰기 이외의 문자는 전부 제거\n",
    "def text_cleaning(text):\n",
    "    hangul = re.compile('[^ ㄱ-ㅣ가-힣]+') # 한글의 정규표현식\n",
    "    result = hangul.sub('', text)\n",
    "    return result\n",
    "\n",
    "# 텍스트 정제 함수text_cleaning()를 ‘tweet_text’ 피처에 이를 적용, 한글과 띄어쓰기만 추출하여 ko_text 피처 생성\n",
    "df['ko_text'] = df['tweet_text'].apply(lambda x: text_cleaning(x))\n",
    "df.head()"
   ]
  },
  {
   "cell_type": "markdown",
   "id": "259b0c05",
   "metadata": {},
   "source": [
    "### [konlpy를 이용한 명사 키워드 추출]\n",
    "- 명사만 추출한 후 불용어 및 한글자 키워드 제거"
   ]
  },
  {
   "cell_type": "code",
   "execution_count": 11,
   "id": "385631d3",
   "metadata": {},
   "outputs": [
    {
     "name": "stdout",
     "output_type": "stream",
     "text": [
      "(100, 4)\n"
     ]
    },
    {
     "data": {
      "text/html": [
       "<div>\n",
       "<style scoped>\n",
       "    .dataframe tbody tr th:only-of-type {\n",
       "        vertical-align: middle;\n",
       "    }\n",
       "\n",
       "    .dataframe tbody tr th {\n",
       "        vertical-align: top;\n",
       "    }\n",
       "\n",
       "    .dataframe thead th {\n",
       "        text-align: right;\n",
       "    }\n",
       "</style>\n",
       "<table border=\"1\" class=\"dataframe\">\n",
       "  <thead>\n",
       "    <tr style=\"text-align: right;\">\n",
       "      <th></th>\n",
       "      <th>created</th>\n",
       "      <th>tweet_text</th>\n",
       "      <th>ko_text</th>\n",
       "      <th>nouns</th>\n",
       "    </tr>\n",
       "  </thead>\n",
       "  <tbody>\n",
       "    <tr>\n",
       "      <th>0</th>\n",
       "      <td>Fri Feb 04 06:49:57 +0000 2022</td>\n",
       "      <td>RT @yonhaptweet: 한국 여자축구, 사상 첫 아시안컵 결승 진출…필리핀에...</td>\n",
       "      <td>한국 여자축구 사상 첫 아시안컵 결승 진출필리핀에  완승</td>\n",
       "      <td>[한국, 여자, 축구, 사상, 아시안컵, 결승, 진출, 필리핀, 완승]</td>\n",
       "    </tr>\n",
       "    <tr>\n",
       "      <th>1</th>\n",
       "      <td>Fri Feb 04 06:48:38 +0000 2022</td>\n",
       "      <td>RT @Jaemyung_Lee: &amp;lt;한국 여자 축구가 31년 만에 아시안컵 결승...</td>\n",
       "      <td>한국 여자 축구가 년 만에 아시안컵 결승에 진출했습니다 축하드립니다 월드컵 회 ...</td>\n",
       "      <td>[한국, 여자, 축구, 아시안컵, 결승, 진출, 축하, 월드컵, 연속, 진출, 쾌거...</td>\n",
       "    </tr>\n",
       "    <tr>\n",
       "      <th>2</th>\n",
       "      <td>Fri Feb 04 06:48:38 +0000 2022</td>\n",
       "      <td>RT @yonhaptweet: 한국 여자축구, 사상 첫 아시안컵 결승 진출…필리핀에...</td>\n",
       "      <td>한국 여자축구 사상 첫 아시안컵 결승 진출필리핀에  완승</td>\n",
       "      <td>[한국, 여자, 축구, 사상, 아시안컵, 결승, 진출, 필리핀, 완승]</td>\n",
       "    </tr>\n",
       "    <tr>\n",
       "      <th>3</th>\n",
       "      <td>Fri Feb 04 06:47:41 +0000 2022</td>\n",
       "      <td>RT @SBS8news: 한국 여자축구, 6일 중국과 아시안컵 결승…첫 우승 도전 ...</td>\n",
       "      <td>한국 여자축구 일 중국과 아시안컵 결승첫 우승 도전 뉴스</td>\n",
       "      <td>[한국, 여자, 축구, 중국, 아시안컵, 결승, 우승, 도전, 뉴스]</td>\n",
       "    </tr>\n",
       "    <tr>\n",
       "      <th>4</th>\n",
       "      <td>Fri Feb 04 06:47:39 +0000 2022</td>\n",
       "      <td>RT @KJH_officialtwt: [#HWANAIR]\\n잠시 후 9시, JTBC...</td>\n",
       "      <td>잠시 후 시  전설체전 에 재환이가 출연합니다 축구돌 김째니  발재간의 향연으로...</td>\n",
       "      <td>[전설, 체전, 재환, 출연, 축구, 재간, 향연, 당황, 재화니, 매력, 퐁당]</td>\n",
       "    </tr>\n",
       "  </tbody>\n",
       "</table>\n",
       "</div>"
      ],
      "text/plain": [
       "                          created  \\\n",
       "0  Fri Feb 04 06:49:57 +0000 2022   \n",
       "1  Fri Feb 04 06:48:38 +0000 2022   \n",
       "2  Fri Feb 04 06:48:38 +0000 2022   \n",
       "3  Fri Feb 04 06:47:41 +0000 2022   \n",
       "4  Fri Feb 04 06:47:39 +0000 2022   \n",
       "\n",
       "                                          tweet_text  \\\n",
       "0  RT @yonhaptweet: 한국 여자축구, 사상 첫 아시안컵 결승 진출…필리핀에...   \n",
       "1  RT @Jaemyung_Lee: &lt;한국 여자 축구가 31년 만에 아시안컵 결승...   \n",
       "2  RT @yonhaptweet: 한국 여자축구, 사상 첫 아시안컵 결승 진출…필리핀에...   \n",
       "3  RT @SBS8news: 한국 여자축구, 6일 중국과 아시안컵 결승…첫 우승 도전 ...   \n",
       "4  RT @KJH_officialtwt: [#HWANAIR]\\n잠시 후 9시, JTBC...   \n",
       "\n",
       "                                             ko_text  \\\n",
       "0                   한국 여자축구 사상 첫 아시안컵 결승 진출필리핀에  완승    \n",
       "1    한국 여자 축구가 년 만에 아시안컵 결승에 진출했습니다 축하드립니다 월드컵 회 ...   \n",
       "2                   한국 여자축구 사상 첫 아시안컵 결승 진출필리핀에  완승    \n",
       "3                   한국 여자축구 일 중국과 아시안컵 결승첫 우승 도전 뉴스    \n",
       "4    잠시 후 시  전설체전 에 재환이가 출연합니다 축구돌 김째니  발재간의 향연으로...   \n",
       "\n",
       "                                               nouns  \n",
       "0            [한국, 여자, 축구, 사상, 아시안컵, 결승, 진출, 필리핀, 완승]  \n",
       "1  [한국, 여자, 축구, 아시안컵, 결승, 진출, 축하, 월드컵, 연속, 진출, 쾌거...  \n",
       "2            [한국, 여자, 축구, 사상, 아시안컵, 결승, 진출, 필리핀, 완승]  \n",
       "3             [한국, 여자, 축구, 중국, 아시안컵, 결승, 우승, 도전, 뉴스]  \n",
       "4      [전설, 체전, 재환, 출연, 축구, 재간, 향연, 당황, 재화니, 매력, 퐁당]  "
      ]
     },
     "execution_count": 11,
     "metadata": {},
     "output_type": "execute_result"
    }
   ],
   "source": [
    "from konlpy.tag import Okt\n",
    "from collections import Counter\n",
    "\n",
    "# 불용어 사전(korean_stopwords.txt)의 텍스트 문서 읽어 stopwords 리스트 생성\n",
    "korean_stopwords_path =\"korean_stopwords.txt\"\n",
    "with open(korean_stopwords_path, encoding='utf8') as f:\n",
    "    stopwords = f.readlines()\n",
    "stopwords = [x.strip() for x in stopwords] # strip()으로 공백 및 줄바꿈 제거\n",
    "\n",
    "# 품사 중 명사만 추출하여 한글자 키워드 및 불용어 제거\n",
    "# Okt(Open Korean Text)는 트위터에서 만든 오픈소스 한국어 처리기인 twitter-korean-text를 이어받아 만들고 있는 프로젝트\n",
    "def get_nouns(x):\n",
    "    nouns_tagger = Okt() # Okt()클래스 선언\n",
    "    nouns = nouns_tagger.nouns(x)\n",
    "    \n",
    "    # 한글자 키워드 제거\n",
    "    nouns = [noun for noun in nouns if len(noun) > 1]\n",
    "    \n",
    "    # 불용어를 제거\n",
    "    nouns = [noun for noun in nouns if noun not in stopwords]\n",
    "    \n",
    "    return nouns\n",
    "\n",
    "# ‘ko_text’ 피처에 get_nouns() 함수를 적용하여 불용어 및 한글자를 제거한 명사 추출하여 'nouns' 피처 생성\n",
    "df['nouns'] = df['ko_text'].apply(lambda x: get_nouns(x))\n",
    "print(df.shape) # 행과 열의 갯수를 튜플로 반환\n",
    "df.head()\n"
   ]
  },
  {
   "cell_type": "markdown",
   "id": "d72e9b69",
   "metadata": {},
   "source": [
    "# <Step3. 분석> : 연관 분석을 이용한 키워드 분석"
   ]
  },
  {
   "cell_type": "markdown",
   "id": "eeeb68af",
   "metadata": {},
   "source": [
    "### [연관 키워드 추출하기]\n",
    "### [연관 규칙]\n",
    "- 연관규칙 (아프리오리, Apriori 알고리즘) https://blog.naver.com/zzz90zzz/221807210555\n",
    "- 연관규칙은 비지도학습으로 대규모 거래 데이터로 부터 함께 구매될 규칙을 도출하여 고객이 특정 상품 구매시 이와 연관성이 높은 상품을 추천하는 것\n",
    "- Apriori 알고리즘 : 간단한 성능 측정치를 이용해 거대한 DB에서 데이터간의 연관성을 찾는 알고리즘\n",
    "#### [ 연관규칙에서 사용하는 3가지 통계척도 ]\n",
    "- 1. 지지도 (support)  : 특정 아이템이 데이터에서 발생하는 빈도 \n",
    "- 2. 신뢰도 (confidence) : 두 아이템의 연관규칙이 유용한 규칙일 가능성의 척도 \n",
    "- 3. 향상도 (lift) : 두 아이템의 연관 규칙이 우연인지 아닌지를 나타내는 척도 "
   ]
  },
  {
   "cell_type": "markdown",
   "id": "87921334",
   "metadata": {},
   "source": [
    "### Apriori 라이브러리 설치"
   ]
  },
  {
   "cell_type": "code",
   "execution_count": 13,
   "id": "57e6fa4c",
   "metadata": {},
   "outputs": [
    {
     "name": "stdout",
     "output_type": "stream",
     "text": [
      "RelationRecord(items=frozenset({'손흥민'}), support=1.0, ordered_statistics=[OrderedStatistic(items_base=frozenset(), items_add=frozenset({'손흥민'}), confidence=1.0, lift=1.0)])\n",
      "RelationRecord(items=frozenset({'시소코'}), support=0.3333333333333333, ordered_statistics=[OrderedStatistic(items_base=frozenset(), items_add=frozenset({'시소코'}), confidence=0.3333333333333333, lift=1.0)])\n",
      "RelationRecord(items=frozenset({'케인'}), support=0.6666666666666666, ordered_statistics=[OrderedStatistic(items_base=frozenset(), items_add=frozenset({'케인'}), confidence=0.6666666666666666, lift=1.0)])\n",
      "RelationRecord(items=frozenset({'포체티노'}), support=0.3333333333333333, ordered_statistics=[OrderedStatistic(items_base=frozenset(), items_add=frozenset({'포체티노'}), confidence=0.3333333333333333, lift=1.0)])\n",
      "RelationRecord(items=frozenset({'손흥민', '시소코'}), support=0.3333333333333333, ordered_statistics=[OrderedStatistic(items_base=frozenset(), items_add=frozenset({'손흥민', '시소코'}), confidence=0.3333333333333333, lift=1.0), OrderedStatistic(items_base=frozenset({'손흥민'}), items_add=frozenset({'시소코'}), confidence=0.3333333333333333, lift=1.0), OrderedStatistic(items_base=frozenset({'시소코'}), items_add=frozenset({'손흥민'}), confidence=1.0, lift=1.0)])\n",
      "RelationRecord(items=frozenset({'케인', '손흥민'}), support=0.6666666666666666, ordered_statistics=[OrderedStatistic(items_base=frozenset(), items_add=frozenset({'케인', '손흥민'}), confidence=0.6666666666666666, lift=1.0), OrderedStatistic(items_base=frozenset({'손흥민'}), items_add=frozenset({'케인'}), confidence=0.6666666666666666, lift=1.0), OrderedStatistic(items_base=frozenset({'케인'}), items_add=frozenset({'손흥민'}), confidence=1.0, lift=1.0)])\n",
      "RelationRecord(items=frozenset({'포체티노', '손흥민'}), support=0.3333333333333333, ordered_statistics=[OrderedStatistic(items_base=frozenset(), items_add=frozenset({'포체티노', '손흥민'}), confidence=0.3333333333333333, lift=1.0), OrderedStatistic(items_base=frozenset({'손흥민'}), items_add=frozenset({'포체티노'}), confidence=0.3333333333333333, lift=1.0), OrderedStatistic(items_base=frozenset({'포체티노'}), items_add=frozenset({'손흥민'}), confidence=1.0, lift=1.0)])\n",
      "RelationRecord(items=frozenset({'케인', '포체티노'}), support=0.3333333333333333, ordered_statistics=[OrderedStatistic(items_base=frozenset(), items_add=frozenset({'케인', '포체티노'}), confidence=0.3333333333333333, lift=1.0), OrderedStatistic(items_base=frozenset({'케인'}), items_add=frozenset({'포체티노'}), confidence=0.5, lift=1.5), OrderedStatistic(items_base=frozenset({'포체티노'}), items_add=frozenset({'케인'}), confidence=1.0, lift=1.5)])\n",
      "RelationRecord(items=frozenset({'케인', '손흥민', '포체티노'}), support=0.3333333333333333, ordered_statistics=[OrderedStatistic(items_base=frozenset(), items_add=frozenset({'케인', '손흥민', '포체티노'}), confidence=0.3333333333333333, lift=1.0), OrderedStatistic(items_base=frozenset({'손흥민'}), items_add=frozenset({'케인', '포체티노'}), confidence=0.3333333333333333, lift=1.0), OrderedStatistic(items_base=frozenset({'케인'}), items_add=frozenset({'포체티노', '손흥민'}), confidence=0.5, lift=1.5), OrderedStatistic(items_base=frozenset({'포체티노'}), items_add=frozenset({'케인', '손흥민'}), confidence=1.0, lift=1.5), OrderedStatistic(items_base=frozenset({'케인', '손흥민'}), items_add=frozenset({'포체티노'}), confidence=0.5, lift=1.5), OrderedStatistic(items_base=frozenset({'포체티노', '손흥민'}), items_add=frozenset({'케인'}), confidence=1.0, lift=1.5), OrderedStatistic(items_base=frozenset({'케인', '포체티노'}), items_add=frozenset({'손흥민'}), confidence=1.0, lift=1.0)])\n"
     ]
    }
   ],
   "source": [
    "##### 연관 분석 연습\n",
    "from apyori import apriori\n",
    "\n",
    "transactions = [\n",
    "    ['손흥민', '시소코'],\n",
    "    ['손흥민', '케인'],\n",
    "    ['손흥민', '케인', '포체티노']\n",
    "]\n",
    "\n",
    "# 연관 분석을 수행\n",
    "results = list(apriori(transactions))\n",
    "for result in results:\n",
    "    print(result)"
   ]
  },
  {
   "cell_type": "code",
   "execution_count": 14,
   "id": "7a733015",
   "metadata": {},
   "outputs": [
    {
     "data": {
      "text/plain": [
       "[RelationRecord(items=frozenset({'손흥민'}), support=1.0, ordered_statistics=[OrderedStatistic(items_base=frozenset(), items_add=frozenset({'손흥민'}), confidence=1.0, lift=1.0)]),\n",
       " RelationRecord(items=frozenset({'케인'}), support=0.6666666666666666, ordered_statistics=[OrderedStatistic(items_base=frozenset(), items_add=frozenset({'케인'}), confidence=0.6666666666666666, lift=1.0)]),\n",
       " RelationRecord(items=frozenset({'케인', '손흥민'}), support=0.6666666666666666, ordered_statistics=[OrderedStatistic(items_base=frozenset(), items_add=frozenset({'케인', '손흥민'}), confidence=0.6666666666666666, lift=1.0), OrderedStatistic(items_base=frozenset({'손흥민'}), items_add=frozenset({'케인'}), confidence=0.6666666666666666, lift=1.0), OrderedStatistic(items_base=frozenset({'케인'}), items_add=frozenset({'손흥민'}), confidence=1.0, lift=1.0)])]"
      ]
     },
     "execution_count": 14,
     "metadata": {},
     "output_type": "execute_result"
    }
   ],
   "source": [
    "# 지지도 0.5, 신뢰도 0.6, 향상도 1.0 이상이면서 (손흥민, 케인) 처럼 규칙의 크기가 2 이하인 규칙을 추출\n",
    "list(apriori(transactions,\n",
    "             min_support=0.5,\n",
    "             min_confidence=0.6,\n",
    "             min_lift=1.0,\n",
    "             max_length=2))"
   ]
  },
  {
   "cell_type": "markdown",
   "id": "6206de5e",
   "metadata": {},
   "source": [
    "#### 트위터 연관 키워드 분석"
   ]
  },
  {
   "cell_type": "code",
   "execution_count": 15,
   "id": "3e90f944",
   "metadata": {},
   "outputs": [
    {
     "name": "stdout",
     "output_type": "stream",
     "text": [
      "[['한국', '여자', '축구', '사상', '아시안컵', '결승', '진출', '필리핀', '완승'], ['한국', '여자', '축구', '아시안컵', '결승', '진출', '축하', '월드컵', '연속', '진출', '쾌거', '종목', '설움', '선수', '성과', '감복', '결승전', '선전', '기원'], ['한국', '여자', '축구', '사상', '아시안컵', '결승', '진출', '필리핀', '완승'], ['한국', '여자', '축구', '중국', '아시안컵', '결승', '우승', '도전', '뉴스'], ['전설', '체전', '재환', '출연', '축구', '재간', '향연', '당황', '재화니', '매력', '퐁당'], ['한국', '여자', '축구', '사상', '아시안컵', '결승', '진출', '필리핀', '완승'], ['속보', '여자', '축구', '사상', '아시안컵', '결승', '진출', '위키트리'], ['한국', '여자', '축구', '사상', '아시안컵', '결승', '진출', '필리핀', '완승'], ['한국', '여자', '축구', '중국', '아시안컵', '결승', '우승', '도전', '뉴스'], ['패티', '만남', '어플', '스타킹', '축구', '축구선수', '울산', '아줌마', '동영상', '애무', '김제', '맛집', '조건', '만남', '출장', '만남', '출장'], ['한국', '여자', '축구', '사상', '아시안컵', '결승', '진출', '필리핀', '완승'], ['축구', '정우'], ['댄스', '팬티', '프레', '걸그룹', '노출', '공연', '파티쉐', '여성', '축구', '나잇', '오피', '검스', '계절', '노출증', '만남'], ['고창', '출장', '경산', '훈녀', '모바일', '수원', '유흥업소', '골든', '일드', '반사', '인스타', '친구', '일상', '부천', '영암군', '유러', '피안', '레터', '번역', '축구', '분석'], ['바나나', '사건', '발생', '유럽', '축구', '인종차별', '전쟁'], ['핸드볼', '정승환', '축구', '류준민', '모야'], ['한국', '여자', '축구', '아시안컵', '결승', '진출', '축하', '월드컵', '연속', '진출', '쾌거', '종목', '설움', '선수', '성과', '감복', '결승전', '선전', '기원'], ['오후', '일수', '축구'], ['한국', '여자', '축구', '사상', '아시안컵', '결승', '진출', '필리핀', '완승'], ['동해', '은혁', '동해', '제일', '런닝맨', '조만간', '축구', '예정', '고요', '진짜'], ['내일', '축구', '경기', '타카기', '구나'], ['축구', '자동'], ['오늘', '배추', '그라데이션', '축구', '얼굴', '기강', '잡고'], ['한국', '여자', '축구', '사상', '아시안컵', '결승', '진출', '필리핀', '완승'], ['축구', '만화', '샤인', '스포츠'], ['축구'], ['한국', '여자', '축구', '사상', '아시안컵', '결승', '진출', '필리핀', '완승'], ['스페인', '가사', '영상', '그거', '발음', '그라시아스', '축구', '선수', '이름', '포함', '스페인', '단어', '시작', '초딩'], ['한국', '여자', '축구', '사상', '아시안컵', '결승', '진출', '필리핀', '완승'], ['카페', '호두', '칠곡군', '영천군', '인스타', '패션', '플라멩구', '바나나', '쉐이크', '인천', '거진읍', '서울', '성인', '축구', '영등포역', '조건', '만남'], ['한국', '여자', '축구', '사상', '아시안컵', '결승', '진출', '필리핀', '완승'], ['한국', '여자', '축구', '사상', '아시안컵', '결승', '진출', '필리핀', '완승'], ['축구', '경기', '마다', '영상', '보고', '영상', '기적', '영상'], ['축구', '정우'], ['한국', '여자', '축구', '사상', '아시안컵', '결승', '진출', '필리핀', '완승'], ['한국', '여자', '축구', '아시안컵', '결승', '진출', '축하', '월드컵', '연속', '진출', '쾌거', '종목', '설움', '선수', '성과', '감복', '결승전', '선전', '기원'], ['증말', '일임', '암만', '축구', '위로', '주위', '저런', '사람', '개도'], ['축구', '정우'], ['대한민국', '축구', '국가대표팀', '연속', '월드컵', '본선', '진출', '축하', '아시아', '최초', '이자', '세계', '일군', '성과', '선수', '무척', '본선', '호랑이', '기세', '선전'], ['버릇', '학교', '사물함', '대충', '교과서', '예비', '체육복', '달라', '생각', '체육복', '다가', '합동', '체육', '한겨울', '축구', '한적'], ['한국', '여자', '축구', '사상', '아시안컵', '결승', '진출', '필리핀', '완승'], ['우승', '도전', '한국', '여자', '축구', '아시안컵', '결승', '상대', '중국', '출처', '연합뉴스', '네이버', '스포츠'], ['한국', '여자', '축구', '아시안컵', '결승', '진출', '축하', '월드컵', '연속', '진출', '쾌거', '종목', '설움', '선수', '성과', '감복', '결승전', '선전', '기원'], ['한국', '여자', '축구', '사상', '아시안컵', '결승', '진출', '필리핀', '완승'], ['축구', '정우'], ['증말', '일임', '암만', '축구', '위로', '주위', '저런', '사람', '개도'], ['한국', '여자', '축구', '사상', '아시안컵', '결승', '진출', '아시안컵', '콜린', '지소연', '한국', '시인', '기자'], ['라인', '자포', '성향', '전신', '고정', '소리', '입술', '분만', '구함', '축구', '노예', '환영'], ['한국', '여자', '축구', '사상', '아시안컵', '결승', '진출', '필리핀', '완승'], ['축구', '정우'], ['한국', '여자', '축구', '아시안컵', '결승', '진출', '축하', '월드컵', '연속', '진출', '쾌거', '종목', '설움', '선수', '성과', '감복', '결승전', '선전', '기원'], ['한국', '여자', '축구', '사상', '아시안컵', '결승', '진출', '필리핀', '완승'], ['한국', '여자', '축구', '사상', '아시안컵', '결승', '진출', '필리핀', '완승'], ['축구', '장르', '대체', '보고'], ['간장', '신현준', '정형돈', '브라질', '축구', '포토', '카드', '돌싱', '섹파', '여성', '전용', '마사지', '화이트데이', '선물', '진시몬', '소통', '환영', '대출', '출장', '만남', '출장', '조건', '만남'], ['한국', '여자', '축구', '아시안컵', '결승', '진출', '축하', '월드컵', '연속', '진출', '쾌거', '종목', '설움', '선수', '성과', '감복', '결승전', '선전', '기원'], ['한국', '여자', '축구', '사상', '아시안컵', '결승', '진출', '필리핀', '완승'], ['축구', '정우'], ['더보이즈', '선우', '김선우', '포카', '디엠', '일괄', '우대', '제이콥', '영훈', '현재', '케빈', '뉴큐', '학년', '선우', '에릭', '포토', '카드', '빌스', '릴링', '더비', '존트', '레카', '축구', '킷캣', '애플', '뮤직', '더비', '기기', '리얼', '급처', '전차', '냥증', '사탑', '로더'], ['한국', '여자', '축구', '사상', '아시안컵', '결승', '진출', '필리핀', '완승'], ['한국', '여자', '축구', '아시안컵', '결승', '진출', '축하', '월드컵', '연속', '진출', '쾌거', '종목', '설움', '선수', '성과', '감복', '결승전', '선전', '기원'], ['조교', '후불', '만남', '용돈', '만남', '축구', '정치', '여친', '치기', '조건', '만남', '섹트'], ['축구', '남캐', '내지', '씨발', '정개', '서리', '서침'], ['더보이즈', '선우', '현재', '주연', '영훈', '포카', '소년', '방포카', '크리스', '마씨', '키링', '에어', '로투킹', '에어팟', '케이스', '스릴', '에버라인', '라포', '티셀', '매버릭', '킹덤', '트레카', '분철', '메이크', '스타', '멬스', '매버릭'], ['한국', '여자', '축구', '사상', '아시안컵', '결승', '진출', '필리핀', '완승'], ['최애', '직업', '직업', '두뇌', '가지', '아이돌', '전직', '축구', '수영', '선수', '트리플', '페이스', '잠입', '수사', '탐정'], ['여자애', '서남', '직캠', '보고', '우진', '우진', '얼굴', '래서', '깜짝', '더니', '멋쩍', '웃음', '다시', '축구'], ['축구', '과외'], ['출장', '패티', '만남', '어플', '스타킹', '축구', '축구선수', '울산', '아줌마', '마사지', '스타킹', '동영상', '애무', '김제', '맛집'], ['한국', '여자', '축구', '사상', '아시안컵', '결승', '진출', '필리핀', '완승'], ['축구', '정우'], ['핑크', '스컹크', '축구', '효지니'], ['라지', '을지', '지구', '사랑', '중국어', '레슨', '미국', '축구', '사투리', '교실', '한국어', '능통', '관린', '영통', '나노', '단위', '먼저', '오늘'], ['오늘', '축구', '완전', '오늘', '태현'], ['할렐루야', '자칭', '공식', '트윗', '축구', '대하', '자세', '요약', '기사'], ['한국', '여자', '축구', '아시안컵', '결승', '진출', '축하', '월드컵', '연속', '진출', '쾌거', '종목', '설움', '선수', '성과', '감복', '결승전', '선전', '기원'], ['한국', '여자', '축구', '사상', '아시안컵', '결승', '진출', '필리핀', '완승'], ['한국', '여자', '축구', '아시안컵', '결승', '진출', '축하', '월드컵', '연속', '진출', '쾌거', '종목', '설움', '선수', '성과', '감복', '결승전', '선전', '기원'], ['한국', '여자', '축구', '사상', '아시안컵', '결승', '진출', '필리핀', '완승'], ['한국', '여자', '축구', '사상', '아시안컵', '결승', '진출', '필리핀', '완승'], ['한국', '여자', '축구', '사상', '아시안컵', '결승', '진출', '필리핀', '완승'], ['축구', '정우'], ['한국', '여자', '축구', '아시안컵', '결승', '진출', '축하', '월드컵', '연속', '진출', '쾌거', '종목', '설움', '선수', '성과', '감복', '결승전', '선전', '기원'], ['한국', '여자', '축구', '사상', '아시안컵', '결승', '진출', '필리핀', '완승'], ['출장', '패티', '만남', '어플', '스타킹', '축구', '축구선수', '울산', '아줌마', '마사지', '스타킹', '동영상', '애무', '김제', '맛집', '조건', '만남', '출장', '만남'], ['한국', '여자', '축구', '사상', '아시안컵', '결승', '진출', '필리핀', '완승'], ['축구', '정우'], ['축구', '정우'], ['한국', '여자', '축구', '사상', '아시안컵', '결승', '진출', '필리핀', '완승'], ['축구', '정우'], ['아시아', '여자', '축구', '티어', '북한', '일본', '호주', '티어', '중국', '한국', '대회', '결승', '한국', '중국'], ['창원', '가로수길', '타임세일', '성북', '등산', '먹튀', '이마트', '주인', '의창', '축구', '분석', '마산', '아웃', '드루'], ['여자', '축구', '일전', '중국', '연장', '후반', '종료', '동점골', '승부차기', '일본', '중국', '여자', '축구', '남자', '축구', '실력', '딴판', '피파랭킹', '불과', '우리나라', '단계', '차이나'], ['속보', '여자', '축구', '사상', '아시안컵', '결승', '진출', '위키트리'], ['한국', '여자', '축구', '아시안컵', '결승', '진출', '축하', '월드컵', '연속', '진출', '쾌거', '종목', '설움', '선수', '성과', '감복', '결승전', '선전', '기원'], ['축구', '정우'], ['기초', '사전', '드리블', '축구', '농구', '아이스하키', '이용'], ['번개', '축구'], ['축구', '정우'], ['축구', '정우']]\n"
     ]
    }
   ],
   "source": [
    "# 트랜잭션 데이터를 추출\n",
    "transactions = df['nouns'].tolist()\n",
    "print(transactions)"
   ]
  },
  {
   "cell_type": "code",
   "execution_count": 16,
   "id": "2c5bf94a",
   "metadata": {},
   "outputs": [
    {
     "data": {
      "text/plain": [
       "[RelationRecord(items=frozenset({'결승전', '감복'}), support=0.11, ordered_statistics=[OrderedStatistic(items_base=frozenset({'감복'}), items_add=frozenset({'결승전'}), confidence=1.0, lift=9.090909090909092), OrderedStatistic(items_base=frozenset({'결승전'}), items_add=frozenset({'감복'}), confidence=1.0, lift=9.090909090909092)]),\n",
       " RelationRecord(items=frozenset({'기원', '감복'}), support=0.11, ordered_statistics=[OrderedStatistic(items_base=frozenset({'감복'}), items_add=frozenset({'기원'}), confidence=1.0, lift=9.090909090909092), OrderedStatistic(items_base=frozenset({'기원'}), items_add=frozenset({'감복'}), confidence=1.0, lift=9.090909090909092)]),\n",
       " RelationRecord(items=frozenset({'선수', '감복'}), support=0.11, ordered_statistics=[OrderedStatistic(items_base=frozenset({'감복'}), items_add=frozenset({'선수'}), confidence=1.0, lift=7.142857142857142), OrderedStatistic(items_base=frozenset({'선수'}), items_add=frozenset({'감복'}), confidence=0.7857142857142857, lift=7.142857142857142)]),\n",
       " RelationRecord(items=frozenset({'선전', '감복'}), support=0.11, ordered_statistics=[OrderedStatistic(items_base=frozenset({'감복'}), items_add=frozenset({'선전'}), confidence=1.0, lift=8.333333333333334), OrderedStatistic(items_base=frozenset({'선전'}), items_add=frozenset({'감복'}), confidence=0.9166666666666667, lift=8.333333333333334)]),\n",
       " RelationRecord(items=frozenset({'설움', '감복'}), support=0.11, ordered_statistics=[OrderedStatistic(items_base=frozenset({'감복'}), items_add=frozenset({'설움'}), confidence=1.0, lift=9.090909090909092), OrderedStatistic(items_base=frozenset({'설움'}), items_add=frozenset({'감복'}), confidence=1.0, lift=9.090909090909092)]),\n",
       " RelationRecord(items=frozenset({'성과', '감복'}), support=0.11, ordered_statistics=[OrderedStatistic(items_base=frozenset({'감복'}), items_add=frozenset({'성과'}), confidence=1.0, lift=8.333333333333334), OrderedStatistic(items_base=frozenset({'성과'}), items_add=frozenset({'감복'}), confidence=0.9166666666666667, lift=8.333333333333334)]),\n",
       " RelationRecord(items=frozenset({'감복', '연속'}), support=0.11, ordered_statistics=[OrderedStatistic(items_base=frozenset({'감복'}), items_add=frozenset({'연속'}), confidence=1.0, lift=8.333333333333334), OrderedStatistic(items_base=frozenset({'연속'}), items_add=frozenset({'감복'}), confidence=0.9166666666666667, lift=8.333333333333334)]),\n",
       " RelationRecord(items=frozenset({'월드컵', '감복'}), support=0.11, ordered_statistics=[OrderedStatistic(items_base=frozenset({'감복'}), items_add=frozenset({'월드컵'}), confidence=1.0, lift=8.333333333333334), OrderedStatistic(items_base=frozenset({'월드컵'}), items_add=frozenset({'감복'}), confidence=0.9166666666666667, lift=8.333333333333334)]),\n",
       " RelationRecord(items=frozenset({'종목', '감복'}), support=0.11, ordered_statistics=[OrderedStatistic(items_base=frozenset({'감복'}), items_add=frozenset({'종목'}), confidence=1.0, lift=9.090909090909092), OrderedStatistic(items_base=frozenset({'종목'}), items_add=frozenset({'감복'}), confidence=1.0, lift=9.090909090909092)]),\n",
       " RelationRecord(items=frozenset({'감복', '축하'}), support=0.11, ordered_statistics=[OrderedStatistic(items_base=frozenset({'감복'}), items_add=frozenset({'축하'}), confidence=1.0, lift=8.333333333333334), OrderedStatistic(items_base=frozenset({'축하'}), items_add=frozenset({'감복'}), confidence=0.9166666666666667, lift=8.333333333333334)]),\n",
       " RelationRecord(items=frozenset({'쾌거', '감복'}), support=0.11, ordered_statistics=[OrderedStatistic(items_base=frozenset({'감복'}), items_add=frozenset({'쾌거'}), confidence=1.0, lift=9.090909090909092), OrderedStatistic(items_base=frozenset({'쾌거'}), items_add=frozenset({'감복'}), confidence=1.0, lift=9.090909090909092)]),\n",
       " RelationRecord(items=frozenset({'기원', '결승전'}), support=0.11, ordered_statistics=[OrderedStatistic(items_base=frozenset({'결승전'}), items_add=frozenset({'기원'}), confidence=1.0, lift=9.090909090909092), OrderedStatistic(items_base=frozenset({'기원'}), items_add=frozenset({'결승전'}), confidence=1.0, lift=9.090909090909092)]),\n",
       " RelationRecord(items=frozenset({'결승전', '선수'}), support=0.11, ordered_statistics=[OrderedStatistic(items_base=frozenset({'결승전'}), items_add=frozenset({'선수'}), confidence=1.0, lift=7.142857142857142), OrderedStatistic(items_base=frozenset({'선수'}), items_add=frozenset({'결승전'}), confidence=0.7857142857142857, lift=7.142857142857142)]),\n",
       " RelationRecord(items=frozenset({'선전', '결승전'}), support=0.11, ordered_statistics=[OrderedStatistic(items_base=frozenset({'결승전'}), items_add=frozenset({'선전'}), confidence=1.0, lift=8.333333333333334), OrderedStatistic(items_base=frozenset({'선전'}), items_add=frozenset({'결승전'}), confidence=0.9166666666666667, lift=8.333333333333334)]),\n",
       " RelationRecord(items=frozenset({'결승전', '설움'}), support=0.11, ordered_statistics=[OrderedStatistic(items_base=frozenset({'결승전'}), items_add=frozenset({'설움'}), confidence=1.0, lift=9.090909090909092), OrderedStatistic(items_base=frozenset({'설움'}), items_add=frozenset({'결승전'}), confidence=1.0, lift=9.090909090909092)]),\n",
       " RelationRecord(items=frozenset({'성과', '결승전'}), support=0.11, ordered_statistics=[OrderedStatistic(items_base=frozenset({'결승전'}), items_add=frozenset({'성과'}), confidence=1.0, lift=8.333333333333334), OrderedStatistic(items_base=frozenset({'성과'}), items_add=frozenset({'결승전'}), confidence=0.9166666666666667, lift=8.333333333333334)]),\n",
       " RelationRecord(items=frozenset({'결승전', '연속'}), support=0.11, ordered_statistics=[OrderedStatistic(items_base=frozenset({'결승전'}), items_add=frozenset({'연속'}), confidence=1.0, lift=8.333333333333334), OrderedStatistic(items_base=frozenset({'연속'}), items_add=frozenset({'결승전'}), confidence=0.9166666666666667, lift=8.333333333333334)]),\n",
       " RelationRecord(items=frozenset({'결승전', '월드컵'}), support=0.11, ordered_statistics=[OrderedStatistic(items_base=frozenset({'결승전'}), items_add=frozenset({'월드컵'}), confidence=1.0, lift=8.333333333333334), OrderedStatistic(items_base=frozenset({'월드컵'}), items_add=frozenset({'결승전'}), confidence=0.9166666666666667, lift=8.333333333333334)]),\n",
       " RelationRecord(items=frozenset({'결승전', '종목'}), support=0.11, ordered_statistics=[OrderedStatistic(items_base=frozenset({'결승전'}), items_add=frozenset({'종목'}), confidence=1.0, lift=9.090909090909092), OrderedStatistic(items_base=frozenset({'종목'}), items_add=frozenset({'결승전'}), confidence=1.0, lift=9.090909090909092)]),\n",
       " RelationRecord(items=frozenset({'결승전', '축하'}), support=0.11, ordered_statistics=[OrderedStatistic(items_base=frozenset({'결승전'}), items_add=frozenset({'축하'}), confidence=1.0, lift=8.333333333333334), OrderedStatistic(items_base=frozenset({'축하'}), items_add=frozenset({'결승전'}), confidence=0.9166666666666667, lift=8.333333333333334)]),\n",
       " RelationRecord(items=frozenset({'결승전', '쾌거'}), support=0.11, ordered_statistics=[OrderedStatistic(items_base=frozenset({'결승전'}), items_add=frozenset({'쾌거'}), confidence=1.0, lift=9.090909090909092), OrderedStatistic(items_base=frozenset({'쾌거'}), items_add=frozenset({'결승전'}), confidence=1.0, lift=9.090909090909092)]),\n",
       " RelationRecord(items=frozenset({'기원', '선수'}), support=0.11, ordered_statistics=[OrderedStatistic(items_base=frozenset({'기원'}), items_add=frozenset({'선수'}), confidence=1.0, lift=7.142857142857142), OrderedStatistic(items_base=frozenset({'선수'}), items_add=frozenset({'기원'}), confidence=0.7857142857142857, lift=7.142857142857142)]),\n",
       " RelationRecord(items=frozenset({'선전', '기원'}), support=0.11, ordered_statistics=[OrderedStatistic(items_base=frozenset({'기원'}), items_add=frozenset({'선전'}), confidence=1.0, lift=8.333333333333334), OrderedStatistic(items_base=frozenset({'선전'}), items_add=frozenset({'기원'}), confidence=0.9166666666666667, lift=8.333333333333334)]),\n",
       " RelationRecord(items=frozenset({'기원', '설움'}), support=0.11, ordered_statistics=[OrderedStatistic(items_base=frozenset({'기원'}), items_add=frozenset({'설움'}), confidence=1.0, lift=9.090909090909092), OrderedStatistic(items_base=frozenset({'설움'}), items_add=frozenset({'기원'}), confidence=1.0, lift=9.090909090909092)]),\n",
       " RelationRecord(items=frozenset({'성과', '기원'}), support=0.11, ordered_statistics=[OrderedStatistic(items_base=frozenset({'기원'}), items_add=frozenset({'성과'}), confidence=1.0, lift=8.333333333333334), OrderedStatistic(items_base=frozenset({'성과'}), items_add=frozenset({'기원'}), confidence=0.9166666666666667, lift=8.333333333333334)]),\n",
       " RelationRecord(items=frozenset({'기원', '연속'}), support=0.11, ordered_statistics=[OrderedStatistic(items_base=frozenset({'기원'}), items_add=frozenset({'연속'}), confidence=1.0, lift=8.333333333333334), OrderedStatistic(items_base=frozenset({'연속'}), items_add=frozenset({'기원'}), confidence=0.9166666666666667, lift=8.333333333333334)]),\n",
       " RelationRecord(items=frozenset({'기원', '월드컵'}), support=0.11, ordered_statistics=[OrderedStatistic(items_base=frozenset({'기원'}), items_add=frozenset({'월드컵'}), confidence=1.0, lift=8.333333333333334), OrderedStatistic(items_base=frozenset({'월드컵'}), items_add=frozenset({'기원'}), confidence=0.9166666666666667, lift=8.333333333333334)]),\n",
       " RelationRecord(items=frozenset({'기원', '종목'}), support=0.11, ordered_statistics=[OrderedStatistic(items_base=frozenset({'기원'}), items_add=frozenset({'종목'}), confidence=1.0, lift=9.090909090909092), OrderedStatistic(items_base=frozenset({'종목'}), items_add=frozenset({'기원'}), confidence=1.0, lift=9.090909090909092)]),\n",
       " RelationRecord(items=frozenset({'기원', '축하'}), support=0.11, ordered_statistics=[OrderedStatistic(items_base=frozenset({'기원'}), items_add=frozenset({'축하'}), confidence=1.0, lift=8.333333333333334), OrderedStatistic(items_base=frozenset({'축하'}), items_add=frozenset({'기원'}), confidence=0.9166666666666667, lift=8.333333333333334)]),\n",
       " RelationRecord(items=frozenset({'기원', '쾌거'}), support=0.11, ordered_statistics=[OrderedStatistic(items_base=frozenset({'기원'}), items_add=frozenset({'쾌거'}), confidence=1.0, lift=9.090909090909092), OrderedStatistic(items_base=frozenset({'쾌거'}), items_add=frozenset({'기원'}), confidence=1.0, lift=9.090909090909092)]),\n",
       " RelationRecord(items=frozenset({'만남', '조건'}), support=0.05, ordered_statistics=[OrderedStatistic(items_base=frozenset({'만남'}), items_add=frozenset({'조건'}), confidence=0.7142857142857143, lift=14.285714285714285), OrderedStatistic(items_base=frozenset({'조건'}), items_add=frozenset({'만남'}), confidence=1.0, lift=14.285714285714285)]),\n",
       " RelationRecord(items=frozenset({'선전', '선수'}), support=0.12, ordered_statistics=[OrderedStatistic(items_base=frozenset({'선수'}), items_add=frozenset({'선전'}), confidence=0.857142857142857, lift=7.1428571428571415), OrderedStatistic(items_base=frozenset({'선전'}), items_add=frozenset({'선수'}), confidence=1.0, lift=7.142857142857142)]),\n",
       " RelationRecord(items=frozenset({'선수', '설움'}), support=0.11, ordered_statistics=[OrderedStatistic(items_base=frozenset({'선수'}), items_add=frozenset({'설움'}), confidence=0.7857142857142857, lift=7.142857142857142), OrderedStatistic(items_base=frozenset({'설움'}), items_add=frozenset({'선수'}), confidence=1.0, lift=7.142857142857142)]),\n",
       " RelationRecord(items=frozenset({'성과', '선수'}), support=0.12, ordered_statistics=[OrderedStatistic(items_base=frozenset({'선수'}), items_add=frozenset({'성과'}), confidence=0.857142857142857, lift=7.1428571428571415), OrderedStatistic(items_base=frozenset({'성과'}), items_add=frozenset({'선수'}), confidence=1.0, lift=7.142857142857142)]),\n",
       " RelationRecord(items=frozenset({'선수', '연속'}), support=0.12, ordered_statistics=[OrderedStatistic(items_base=frozenset({'선수'}), items_add=frozenset({'연속'}), confidence=0.857142857142857, lift=7.1428571428571415), OrderedStatistic(items_base=frozenset({'연속'}), items_add=frozenset({'선수'}), confidence=1.0, lift=7.142857142857142)]),\n",
       " RelationRecord(items=frozenset({'선수', '월드컵'}), support=0.12, ordered_statistics=[OrderedStatistic(items_base=frozenset({'선수'}), items_add=frozenset({'월드컵'}), confidence=0.857142857142857, lift=7.1428571428571415), OrderedStatistic(items_base=frozenset({'월드컵'}), items_add=frozenset({'선수'}), confidence=1.0, lift=7.142857142857142)]),\n",
       " RelationRecord(items=frozenset({'선수', '종목'}), support=0.11, ordered_statistics=[OrderedStatistic(items_base=frozenset({'선수'}), items_add=frozenset({'종목'}), confidence=0.7857142857142857, lift=7.142857142857142), OrderedStatistic(items_base=frozenset({'종목'}), items_add=frozenset({'선수'}), confidence=1.0, lift=7.142857142857142)]),\n",
       " RelationRecord(items=frozenset({'선수', '축하'}), support=0.12, ordered_statistics=[OrderedStatistic(items_base=frozenset({'선수'}), items_add=frozenset({'축하'}), confidence=0.857142857142857, lift=7.1428571428571415), OrderedStatistic(items_base=frozenset({'축하'}), items_add=frozenset({'선수'}), confidence=1.0, lift=7.142857142857142)]),\n",
       " RelationRecord(items=frozenset({'선수', '쾌거'}), support=0.11, ordered_statistics=[OrderedStatistic(items_base=frozenset({'선수'}), items_add=frozenset({'쾌거'}), confidence=0.7857142857142857, lift=7.142857142857142), OrderedStatistic(items_base=frozenset({'쾌거'}), items_add=frozenset({'선수'}), confidence=1.0, lift=7.142857142857142)]),\n",
       " RelationRecord(items=frozenset({'선전', '설움'}), support=0.11, ordered_statistics=[OrderedStatistic(items_base=frozenset({'선전'}), items_add=frozenset({'설움'}), confidence=0.9166666666666667, lift=8.333333333333334), OrderedStatistic(items_base=frozenset({'설움'}), items_add=frozenset({'선전'}), confidence=1.0, lift=8.333333333333334)]),\n",
       " RelationRecord(items=frozenset({'선전', '성과'}), support=0.12, ordered_statistics=[OrderedStatistic(items_base=frozenset({'선전'}), items_add=frozenset({'성과'}), confidence=1.0, lift=8.333333333333334), OrderedStatistic(items_base=frozenset({'성과'}), items_add=frozenset({'선전'}), confidence=1.0, lift=8.333333333333334)]),\n",
       " RelationRecord(items=frozenset({'선전', '연속'}), support=0.12, ordered_statistics=[OrderedStatistic(items_base=frozenset({'선전'}), items_add=frozenset({'연속'}), confidence=1.0, lift=8.333333333333334), OrderedStatistic(items_base=frozenset({'연속'}), items_add=frozenset({'선전'}), confidence=1.0, lift=8.333333333333334)]),\n",
       " RelationRecord(items=frozenset({'선전', '월드컵'}), support=0.12, ordered_statistics=[OrderedStatistic(items_base=frozenset({'선전'}), items_add=frozenset({'월드컵'}), confidence=1.0, lift=8.333333333333334), OrderedStatistic(items_base=frozenset({'월드컵'}), items_add=frozenset({'선전'}), confidence=1.0, lift=8.333333333333334)]),\n",
       " RelationRecord(items=frozenset({'선전', '종목'}), support=0.11, ordered_statistics=[OrderedStatistic(items_base=frozenset({'선전'}), items_add=frozenset({'종목'}), confidence=0.9166666666666667, lift=8.333333333333334), OrderedStatistic(items_base=frozenset({'종목'}), items_add=frozenset({'선전'}), confidence=1.0, lift=8.333333333333334)]),\n",
       " RelationRecord(items=frozenset({'선전', '축하'}), support=0.12, ordered_statistics=[OrderedStatistic(items_base=frozenset({'선전'}), items_add=frozenset({'축하'}), confidence=1.0, lift=8.333333333333334), OrderedStatistic(items_base=frozenset({'축하'}), items_add=frozenset({'선전'}), confidence=1.0, lift=8.333333333333334)]),\n",
       " RelationRecord(items=frozenset({'선전', '쾌거'}), support=0.11, ordered_statistics=[OrderedStatistic(items_base=frozenset({'선전'}), items_add=frozenset({'쾌거'}), confidence=0.9166666666666667, lift=8.333333333333334), OrderedStatistic(items_base=frozenset({'쾌거'}), items_add=frozenset({'선전'}), confidence=1.0, lift=8.333333333333334)]),\n",
       " RelationRecord(items=frozenset({'성과', '설움'}), support=0.11, ordered_statistics=[OrderedStatistic(items_base=frozenset({'설움'}), items_add=frozenset({'성과'}), confidence=1.0, lift=8.333333333333334), OrderedStatistic(items_base=frozenset({'성과'}), items_add=frozenset({'설움'}), confidence=0.9166666666666667, lift=8.333333333333334)]),\n",
       " RelationRecord(items=frozenset({'설움', '연속'}), support=0.11, ordered_statistics=[OrderedStatistic(items_base=frozenset({'설움'}), items_add=frozenset({'연속'}), confidence=1.0, lift=8.333333333333334), OrderedStatistic(items_base=frozenset({'연속'}), items_add=frozenset({'설움'}), confidence=0.9166666666666667, lift=8.333333333333334)]),\n",
       " RelationRecord(items=frozenset({'월드컵', '설움'}), support=0.11, ordered_statistics=[OrderedStatistic(items_base=frozenset({'설움'}), items_add=frozenset({'월드컵'}), confidence=1.0, lift=8.333333333333334), OrderedStatistic(items_base=frozenset({'월드컵'}), items_add=frozenset({'설움'}), confidence=0.9166666666666667, lift=8.333333333333334)]),\n",
       " RelationRecord(items=frozenset({'종목', '설움'}), support=0.11, ordered_statistics=[OrderedStatistic(items_base=frozenset({'설움'}), items_add=frozenset({'종목'}), confidence=1.0, lift=9.090909090909092), OrderedStatistic(items_base=frozenset({'종목'}), items_add=frozenset({'설움'}), confidence=1.0, lift=9.090909090909092)]),\n",
       " RelationRecord(items=frozenset({'설움', '축하'}), support=0.11, ordered_statistics=[OrderedStatistic(items_base=frozenset({'설움'}), items_add=frozenset({'축하'}), confidence=1.0, lift=8.333333333333334), OrderedStatistic(items_base=frozenset({'축하'}), items_add=frozenset({'설움'}), confidence=0.9166666666666667, lift=8.333333333333334)]),\n",
       " RelationRecord(items=frozenset({'쾌거', '설움'}), support=0.11, ordered_statistics=[OrderedStatistic(items_base=frozenset({'설움'}), items_add=frozenset({'쾌거'}), confidence=1.0, lift=9.090909090909092), OrderedStatistic(items_base=frozenset({'쾌거'}), items_add=frozenset({'설움'}), confidence=1.0, lift=9.090909090909092)]),\n",
       " RelationRecord(items=frozenset({'성과', '연속'}), support=0.12, ordered_statistics=[OrderedStatistic(items_base=frozenset({'성과'}), items_add=frozenset({'연속'}), confidence=1.0, lift=8.333333333333334), OrderedStatistic(items_base=frozenset({'연속'}), items_add=frozenset({'성과'}), confidence=1.0, lift=8.333333333333334)]),\n",
       " RelationRecord(items=frozenset({'성과', '월드컵'}), support=0.12, ordered_statistics=[OrderedStatistic(items_base=frozenset({'성과'}), items_add=frozenset({'월드컵'}), confidence=1.0, lift=8.333333333333334), OrderedStatistic(items_base=frozenset({'월드컵'}), items_add=frozenset({'성과'}), confidence=1.0, lift=8.333333333333334)]),\n",
       " RelationRecord(items=frozenset({'성과', '종목'}), support=0.11, ordered_statistics=[OrderedStatistic(items_base=frozenset({'성과'}), items_add=frozenset({'종목'}), confidence=0.9166666666666667, lift=8.333333333333334), OrderedStatistic(items_base=frozenset({'종목'}), items_add=frozenset({'성과'}), confidence=1.0, lift=8.333333333333334)]),\n",
       " RelationRecord(items=frozenset({'성과', '축하'}), support=0.12, ordered_statistics=[OrderedStatistic(items_base=frozenset({'성과'}), items_add=frozenset({'축하'}), confidence=1.0, lift=8.333333333333334), OrderedStatistic(items_base=frozenset({'축하'}), items_add=frozenset({'성과'}), confidence=1.0, lift=8.333333333333334)]),\n",
       " RelationRecord(items=frozenset({'성과', '쾌거'}), support=0.11, ordered_statistics=[OrderedStatistic(items_base=frozenset({'성과'}), items_add=frozenset({'쾌거'}), confidence=0.9166666666666667, lift=8.333333333333334), OrderedStatistic(items_base=frozenset({'쾌거'}), items_add=frozenset({'성과'}), confidence=1.0, lift=8.333333333333334)]),\n",
       " RelationRecord(items=frozenset({'월드컵', '연속'}), support=0.12, ordered_statistics=[OrderedStatistic(items_base=frozenset({'연속'}), items_add=frozenset({'월드컵'}), confidence=1.0, lift=8.333333333333334), OrderedStatistic(items_base=frozenset({'월드컵'}), items_add=frozenset({'연속'}), confidence=1.0, lift=8.333333333333334)]),\n",
       " RelationRecord(items=frozenset({'종목', '연속'}), support=0.11, ordered_statistics=[OrderedStatistic(items_base=frozenset({'연속'}), items_add=frozenset({'종목'}), confidence=0.9166666666666667, lift=8.333333333333334), OrderedStatistic(items_base=frozenset({'종목'}), items_add=frozenset({'연속'}), confidence=1.0, lift=8.333333333333334)]),\n",
       " RelationRecord(items=frozenset({'축하', '연속'}), support=0.12, ordered_statistics=[OrderedStatistic(items_base=frozenset({'연속'}), items_add=frozenset({'축하'}), confidence=1.0, lift=8.333333333333334), OrderedStatistic(items_base=frozenset({'축하'}), items_add=frozenset({'연속'}), confidence=1.0, lift=8.333333333333334)]),\n",
       " RelationRecord(items=frozenset({'쾌거', '연속'}), support=0.11, ordered_statistics=[OrderedStatistic(items_base=frozenset({'연속'}), items_add=frozenset({'쾌거'}), confidence=0.9166666666666667, lift=8.333333333333334), OrderedStatistic(items_base=frozenset({'쾌거'}), items_add=frozenset({'연속'}), confidence=1.0, lift=8.333333333333334)]),\n",
       " RelationRecord(items=frozenset({'월드컵', '종목'}), support=0.11, ordered_statistics=[OrderedStatistic(items_base=frozenset({'월드컵'}), items_add=frozenset({'종목'}), confidence=0.9166666666666667, lift=8.333333333333334), OrderedStatistic(items_base=frozenset({'종목'}), items_add=frozenset({'월드컵'}), confidence=1.0, lift=8.333333333333334)]),\n",
       " RelationRecord(items=frozenset({'월드컵', '축하'}), support=0.12, ordered_statistics=[OrderedStatistic(items_base=frozenset({'월드컵'}), items_add=frozenset({'축하'}), confidence=1.0, lift=8.333333333333334), OrderedStatistic(items_base=frozenset({'축하'}), items_add=frozenset({'월드컵'}), confidence=1.0, lift=8.333333333333334)]),\n",
       " RelationRecord(items=frozenset({'월드컵', '쾌거'}), support=0.11, ordered_statistics=[OrderedStatistic(items_base=frozenset({'월드컵'}), items_add=frozenset({'쾌거'}), confidence=0.9166666666666667, lift=8.333333333333334), OrderedStatistic(items_base=frozenset({'쾌거'}), items_add=frozenset({'월드컵'}), confidence=1.0, lift=8.333333333333334)]),\n",
       " RelationRecord(items=frozenset({'종목', '축하'}), support=0.11, ordered_statistics=[OrderedStatistic(items_base=frozenset({'종목'}), items_add=frozenset({'축하'}), confidence=1.0, lift=8.333333333333334), OrderedStatistic(items_base=frozenset({'축하'}), items_add=frozenset({'종목'}), confidence=0.9166666666666667, lift=8.333333333333334)]),\n",
       " RelationRecord(items=frozenset({'종목', '쾌거'}), support=0.11, ordered_statistics=[OrderedStatistic(items_base=frozenset({'종목'}), items_add=frozenset({'쾌거'}), confidence=1.0, lift=9.090909090909092), OrderedStatistic(items_base=frozenset({'쾌거'}), items_add=frozenset({'종목'}), confidence=1.0, lift=9.090909090909092)]),\n",
       " RelationRecord(items=frozenset({'쾌거', '축하'}), support=0.11, ordered_statistics=[OrderedStatistic(items_base=frozenset({'축하'}), items_add=frozenset({'쾌거'}), confidence=0.9166666666666667, lift=8.333333333333334), OrderedStatistic(items_base=frozenset({'쾌거'}), items_add=frozenset({'축하'}), confidence=1.0, lift=8.333333333333334)])]"
      ]
     },
     "execution_count": 16,
     "metadata": {},
     "output_type": "execute_result"
    }
   ],
   "source": [
    "# 지지도 0.05, 신뢰도 0.1, 향상도 5 이상인 것을 추출\n",
    "#list(apriori(transactions))\n",
    "list(apriori(transactions,\n",
    "                       min_support=0.05,\n",
    "                       min_confidence=0.1,\n",
    "                       min_lift=5,\n",
    "                       max_length=2))"
   ]
  },
  {
   "cell_type": "code",
   "execution_count": null,
   "id": "c401daf6",
   "metadata": {},
   "outputs": [],
   "source": []
  }
 ],
 "metadata": {
  "kernelspec": {
   "display_name": "Python 3 (ipykernel)",
   "language": "python",
   "name": "python3"
  },
  "language_info": {
   "codemirror_mode": {
    "name": "ipython",
    "version": 3
   },
   "file_extension": ".py",
   "mimetype": "text/x-python",
   "name": "python",
   "nbconvert_exporter": "python",
   "pygments_lexer": "ipython3",
   "version": "3.9.7"
  }
 },
 "nbformat": 4,
 "nbformat_minor": 5
}
