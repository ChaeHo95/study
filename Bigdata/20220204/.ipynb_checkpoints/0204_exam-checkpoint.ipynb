{
 "cells": [
  {
   "cell_type": "markdown",
   "id": "650e85d6",
   "metadata": {},
   "source": [
    "# 2.2) 트위터 API로 연관 키워드 분석하기"
   ]
  },
  {
   "cell_type": "markdown",
   "id": "b88a29fc",
   "metadata": {},
   "source": [
    "- [<Step1. API 호출> : 트위터 API로 데이터 가져오기](#<Step1.-API-호출>-:-트위터-API로-데이터-가져오기)\n",
    "    - [API 데이터로 데이터 프레임 생성하기]\n",
    "- [<Step2. 추출> : 키워드 추출](#<Step2.-추출>-:-키워드-추출)\n",
    "    - [텍스트 데이터 전처리]\n",
    "    - [nltk, konlpy를 이용한 키워드 추출]\n",
    "- [<Step3. 분석> : 연관 분석을 이용한 키워드 분석](#<Step3.-분석>-:-연관-분석을-이용한-키워드-분석)\n",
    "    - [연관 키워드 추출하기]\n",
    "    - [단어 빈도 추출하기]\n",
    "- [<Step4. 시각화> : 연관 키워드 네트워크 시각화](#<Step4.-시각화>-:-연관-키워드-네트워크-시각화)\n",
    "    - [연관 키워드 네트워크 시각화]"
   ]
  },
  {
   "cell_type": "code",
   "execution_count": 1,
   "id": "5488aad7",
   "metadata": {},
   "outputs": [],
   "source": [
    "# -*- coding: utf-8 -*-\n",
    "\n",
    "# 주피터 노트북을 실행한 브라우저에서 바로 그림을 볼 수 있게끔 만드는 것\n",
    "#브라우저 내부(inline)에 바로 그려지도록 해주는 코드\n",
    "%matplotlib inline\n",
    "\n",
    "import pandas as pd\n",
    "import numpy as np\n",
    "import matplotlib.pyplot as plt\n",
    "\n",
    "import warnings\n",
    "warnings.filterwarnings(\"ignore\")"
   ]
  },
  {
   "cell_type": "markdown",
   "id": "0cd49e92",
   "metadata": {},
   "source": [
    "# <Step1. API 호출> : 트위터 API로 데이터 가져오기"
   ]
  },
  {
   "cell_type": "markdown",
   "id": "0d770f4d",
   "metadata": {},
   "source": [
    "### [API 데이터로 데이터 프레임 생성하기]\n",
    "- anaconda prompt 혹은 Terminal에서 아래와 같은 패키지를 설치\n",
    "- (env_name) `pip install tweepy`"
   ]
  },
  {
   "cell_type": "code",
   "execution_count": 2,
   "id": "118a50ba",
   "metadata": {},
   "outputs": [],
   "source": [
    "# tweepy 3 버전으로 설치\n",
    "#!pip install tweepy==3.10.0"
   ]
  },
  {
   "cell_type": "code",
   "execution_count": 3,
   "id": "e6825802",
   "metadata": {},
   "outputs": [
    {
     "data": {
      "text/plain": [
       "'3.10.0'"
      ]
     },
     "execution_count": 3,
     "metadata": {},
     "output_type": "execute_result"
    }
   ],
   "source": [
    "import tweepy\n",
    "tweepy.__version__"
   ]
  },
  {
   "cell_type": "code",
   "execution_count": 4,
   "id": "3686a064",
   "metadata": {},
   "outputs": [],
   "source": [
    "# 발급 완료된 키 입력\n",
    "CONSUMER_KEY =\"1guUu16Re83rAexS7VhsCAQv0\"\n",
    "CONSUMER_SECRET =\"DMlEHpONvAo5ZPtpDt1wZPFrHplrQIYijOGgD2suu2p9HW0zQz\"\n",
    "ACCESS_TOKEN_KEY = \"169786640-wXppNaveQqbXzOkf6ls3Nt4QQPs04JQUZkoypIjv\"\n",
    "ACCESS_TOKEN_SECRET =\"9ubAWb5RKlIyREa3jc6NM6JUnLp8RILbieFrmEMRDONt0\" \n",
    "\n",
    "# 개인정보 인증을 요청하는 Handler\n",
    "auth = tweepy.OAuthHandler(CONSUMER_KEY, CONSUMER_SECRET)\n",
    "\n",
    "# 인증 요청을 수행\n",
    "auth.set_access_token(ACCESS_TOKEN_KEY, ACCESS_TOKEN_SECRET)\n",
    "\n",
    "# twitter API를 사용하기 위한 준비\n",
    "api = tweepy.API(auth)"
   ]
  },
  {
   "cell_type": "code",
   "execution_count": 5,
   "id": "19cc8b9c",
   "metadata": {},
   "outputs": [
    {
     "data": {
      "text/plain": [
       "<tweepy.auth.OAuthHandler at 0x1f8d7b215b0>"
      ]
     },
     "execution_count": 5,
     "metadata": {},
     "output_type": "execute_result"
    }
   ],
   "source": [
    "auth"
   ]
  },
  {
   "cell_type": "code",
   "execution_count": 6,
   "id": "5e0d376b",
   "metadata": {},
   "outputs": [
    {
     "data": {
      "text/plain": [
       "<tweepy.api.API at 0x1f8d7b21d30>"
      ]
     },
     "execution_count": 6,
     "metadata": {},
     "output_type": "execute_result"
    }
   ],
   "source": [
    "api"
   ]
  },
  {
   "cell_type": "markdown",
   "id": "e8afa6c3",
   "metadata": {},
   "source": [
    "#### '손흥민' 키워드 검색"
   ]
  },
  {
   "cell_type": "code",
   "execution_count": 14,
   "id": "2f2e825e",
   "metadata": {},
   "outputs": [
    {
     "name": "stdout",
     "output_type": "stream",
     "text": [
      "꿈에서 오사무랑 켄마랑 축구함..ㅋㅋㅋㅋㅋㅋㅋㅋㅋㅋㅋㅋㅋㅋㅋㅋㅋㅋㅋㅋㅋㅋㅋㅋㅋㅋㅋㅋㅋㅋ 꿈에 하이큐 처음 나왔어😂\n",
      "[]\n",
      "[]\n",
      "2022-02-04 05:33:34\n",
      "고액\n",
      "안ㅁㅏㅋ톡플러스친구\n",
      "박은영스웨디시소녀\n",
      "섹트\n",
      "팬티\n",
      "서울\n",
      "깡\n",
      "축구집관\n",
      "영등포\n",
      "살빼는중\n",
      "아빠와딸\n",
      " 413Q0PT332SRS4\n",
      "[]\n",
      "[]\n",
      "2022-02-04 05:33:25\n",
      "맞춤형 잼민이 축구교실❤ https://t.co/Rst9QiHLzQ\n",
      "[]\n",
      "[]\n",
      "2022-02-04 05:33:12\n",
      "아 장군님이요 ? 이미 저번에 쓴 바가 있습니다 축구하는 프로그램에서,,,장군님이,,,튼실한 허벅지로 계단을 막 뛰어올라가시는데,,,,\n",
      "[]\n",
      "[]\n",
      "2022-02-04 05:32:14\n",
      "RT @Jaemyung_Lee: &lt;한국 여자 축구가 31년 만에 아시안컵 결승에 진출했습니다. 축하드립니다. 월드컵 10회 연속 진출에 이은 쾌거입니다. 비인기종목의 설움에도 선수들이 보인 성과에 감복합니다. 결승전 선전을 기원합니다.&gt;\n",
      "https:…\n",
      "[{'screen_name': 'Jaemyung_Lee', 'name': '이재명', 'id': 106379129, 'id_str': '106379129', 'indices': [3, 16]}]\n",
      "[]\n",
      "2022-02-04 05:32:11\n",
      "RT @98OE19: 축구하는 정우 https://t.co/gkA8IKSN4g\n",
      "[{'screen_name': '98OE19', 'name': '롱ღ', 'id': 1274107178970779649, 'id_str': '1274107178970779649', 'indices': [3, 10]}]\n",
      "[]\n",
      "2022-02-04 05:31:47\n",
      "홋쉬 스포츠덕 업나요 그쪽 계정에서는 사실 친한사람 없어서 여기 데랴오기는 그렇고 스포츠 이야기는 하고싶고 거기는 지금 뭐 터져서 못들어가는 중이고 저 배구 킥스 축구 맨시티 테니스 나달 본진이고 기계체조… https://t.co/Ml0kHpicqs\n",
      "[]\n",
      "[]\n",
      "2022-02-04 05:31:46\n",
      "RT @yonhaptweet: 한국 여자축구, 사상 첫 아시안컵 결승 진출…필리핀에 2-0 완승 https://t.co/COr0uBtKLS\n",
      "[{'screen_name': 'yonhaptweet', 'name': '연합뉴스', 'id': 147451838, 'id_str': '147451838', 'indices': [3, 15]}]\n",
      "[]\n",
      "2022-02-04 05:31:12\n",
      "RT @yonhaptweet: 한국 여자축구, 사상 첫 아시안컵 결승 진출…필리핀에 2-0 완승 https://t.co/COr0uBtKLS\n",
      "[{'screen_name': 'yonhaptweet', 'name': '연합뉴스', 'id': 147451838, 'id_str': '147451838', 'indices': [3, 15]}]\n",
      "[]\n",
      "2022-02-04 05:30:53\n",
      "가슴녀 축구용품 만나중 유흥정보 검스코디 노출증환자 팬티\n",
      " KZ1O4013OU7TU4\n",
      "[]\n",
      "[]\n",
      "2022-02-04 05:30:13\n",
      "키스방 야노 야쿠자 첫경험 자지 강지 모텔 축구 #조건만남 #섹트\n",
      " 4B75LY0HZN8V163C32\n",
      "[]\n",
      "[{'text': '조건만남', 'indices': [27, 32]}, {'text': '섹트', 'indices': [33, 36]}]\n",
      "2022-02-04 05:30:12\n",
      "RT @Jaemyung_Lee: &lt;한국 여자 축구가 31년 만에 아시안컵 결승에 진출했습니다. 축하드립니다. 월드컵 10회 연속 진출에 이은 쾌거입니다. 비인기종목의 설움에도 선수들이 보인 성과에 감복합니다. 결승전 선전을 기원합니다.&gt;\n",
      "https:…\n",
      "[{'screen_name': 'Jaemyung_Lee', 'name': '이재명', 'id': 106379129, 'id_str': '106379129', 'indices': [3, 16]}]\n",
      "[]\n",
      "2022-02-04 05:30:03\n",
      "고창출장ㅁㅏㅅㅏㅈㅣ\n",
      "경산훈녀\n",
      "모바일\n",
      "수원\n",
      "처인유흥업소\n",
      "골든차일드양도\n",
      "좋아요반사\n",
      "인스타친구\n",
      "일상\n",
      "부천영암군\n",
      "유러피안\n",
      "레터링\n",
      "번역망가\n",
      "축구분석\n",
      " 6GV7Y97XD703X8UQ\n",
      "[]\n",
      "[]\n",
      "2022-02-04 05:29:38\n",
      "RT @yonhaptweet: 한국 여자축구, 사상 첫 아시안컵 결승 진출…필리핀에 2-0 완승 https://t.co/COr0uBtKLS\n",
      "[{'screen_name': 'yonhaptweet', 'name': '연합뉴스', 'id': 147451838, 'id_str': '147451838', 'indices': [3, 15]}]\n",
      "[]\n",
      "2022-02-04 05:29:37\n",
      "RT @Jaemyung_Lee: &lt;한국 여자 축구가 31년 만에 아시안컵 결승에 진출했습니다. 축하드립니다. 월드컵 10회 연속 진출에 이은 쾌거입니다. 비인기종목의 설움에도 선수들이 보인 성과에 감복합니다. 결승전 선전을 기원합니다.&gt;\n",
      "https:…\n",
      "[{'screen_name': 'Jaemyung_Lee', 'name': '이재명', 'id': 106379129, 'id_str': '106379129', 'indices': [3, 16]}]\n",
      "[]\n",
      "2022-02-04 05:29:27\n"
     ]
    }
   ],
   "source": [
    "# twitter API를 사용하여 '손흥민' 이 포함된 트윗들을 크롤링한 뒤, 'user_mentions'와 'hashtags' 속성값 추출\n",
    "keyword = \"축구\"\n",
    "# 특정 키워드 크롤링은  search() 함수 수행, 결과가 리스트 형태로 출력\n",
    "tweets = api.search(keyword)\n",
    "# entities() 함수로 특정 속성의 메타데이터에 접근하여 정보 추출\n",
    "for tweet in tweets:\n",
    "    print(tweet.text)\n",
    "    print(tweet.entities['user_mentions']) # 사용자 댓글\n",
    "    print(tweet.entities['hashtags']) # 해시태그 \n",
    "    print(tweet.created_at) # 트윗이 생성된 UTC 시간"
   ]
  },
  {
   "cell_type": "markdown",
   "id": "f36c6926",
   "metadata": {},
   "source": [
    "#### 데이터 프레임 형태로 수집"
   ]
  },
  {
   "cell_type": "code",
   "execution_count": 15,
   "id": "1f571c21",
   "metadata": {},
   "outputs": [
    {
     "data": {
      "text/html": [
       "<div>\n",
       "<style scoped>\n",
       "    .dataframe tbody tr th:only-of-type {\n",
       "        vertical-align: middle;\n",
       "    }\n",
       "\n",
       "    .dataframe tbody tr th {\n",
       "        vertical-align: top;\n",
       "    }\n",
       "\n",
       "    .dataframe thead th {\n",
       "        text-align: right;\n",
       "    }\n",
       "</style>\n",
       "<table border=\"1\" class=\"dataframe\">\n",
       "  <thead>\n",
       "    <tr style=\"text-align: right;\">\n",
       "      <th></th>\n",
       "      <th>created</th>\n",
       "      <th>tweet_text</th>\n",
       "    </tr>\n",
       "  </thead>\n",
       "  <tbody>\n",
       "    <tr>\n",
       "      <th>0</th>\n",
       "      <td>Fri Feb 04 05:33:46 +0000 2022</td>\n",
       "      <td>RT @yonhaptweet: 한국 여자축구, 사상 첫 아시안컵 결승 진출…필리핀에...</td>\n",
       "    </tr>\n",
       "    <tr>\n",
       "      <th>1</th>\n",
       "      <td>Fri Feb 04 05:33:46 +0000 2022</td>\n",
       "      <td>RT @pos_ms9700: 아... 축구선수 김서누... 월드컵 4강에서 첫 골 ...</td>\n",
       "    </tr>\n",
       "    <tr>\n",
       "      <th>2</th>\n",
       "      <td>Fri Feb 04 05:33:43 +0000 2022</td>\n",
       "      <td>RT @wikitree: [속보] 여자 축구가 일냈다…사상 첫 아시안컵 '결승' 진...</td>\n",
       "    </tr>\n",
       "    <tr>\n",
       "      <th>3</th>\n",
       "      <td>Fri Feb 04 05:33:34 +0000 2022</td>\n",
       "      <td>꿈에서 오사무랑 켄마랑 축구함..ㅋㅋㅋㅋㅋㅋㅋㅋㅋㅋㅋㅋㅋㅋㅋㅋㅋㅋㅋㅋㅋㅋㅋㅋㅋㅋㅋㅋ...</td>\n",
       "    </tr>\n",
       "    <tr>\n",
       "      <th>4</th>\n",
       "      <td>Fri Feb 04 05:33:25 +0000 2022</td>\n",
       "      <td>고액\\n안ㅁㅏㅋ톡플러스친구\\n박은영스웨디시소녀\\n섹트\\n팬티\\n서울\\n깡\\n축구집관...</td>\n",
       "    </tr>\n",
       "  </tbody>\n",
       "</table>\n",
       "</div>"
      ],
      "text/plain": [
       "                          created  \\\n",
       "0  Fri Feb 04 05:33:46 +0000 2022   \n",
       "1  Fri Feb 04 05:33:46 +0000 2022   \n",
       "2  Fri Feb 04 05:33:43 +0000 2022   \n",
       "3  Fri Feb 04 05:33:34 +0000 2022   \n",
       "4  Fri Feb 04 05:33:25 +0000 2022   \n",
       "\n",
       "                                          tweet_text  \n",
       "0  RT @yonhaptweet: 한국 여자축구, 사상 첫 아시안컵 결승 진출…필리핀에...  \n",
       "1  RT @pos_ms9700: 아... 축구선수 김서누... 월드컵 4강에서 첫 골 ...  \n",
       "2  RT @wikitree: [속보] 여자 축구가 일냈다…사상 첫 아시안컵 '결승' 진...  \n",
       "3  꿈에서 오사무랑 켄마랑 축구함..ㅋㅋㅋㅋㅋㅋㅋㅋㅋㅋㅋㅋㅋㅋㅋㅋㅋㅋㅋㅋㅋㅋㅋㅋㅋㅋㅋㅋ...  \n",
       "4  고액\\n안ㅁㅏㅋ톡플러스친구\\n박은영스웨디시소녀\\n섹트\\n팬티\\n서울\\n깡\\n축구집관...  "
      ]
     },
     "execution_count": 15,
     "metadata": {},
     "output_type": "execute_result"
    }
   ],
   "source": [
    "# 크롤링된 데이터를 저장할 데이터 프레임 생성\n",
    "columns = ['created', 'tweet_text']\n",
    "df = pd.DataFrame(columns=columns)\n",
    "\n",
    "# 크롤링을 수행할 갯수를 입력\n",
    "max_tweets = 100\n",
    "\n",
    "# Cursor 객체를 사용하여 크롤링 수행\n",
    "searched_tweets = [status for status in tweepy.Cursor(api.search, q=keyword).items(max_tweets)]\n",
    "\n",
    "# ‘손흥민’이 포함된 1000개의 트윗들에서, ‘text’, ‘created_at’ 정보를 데이터 프레임으로 저장\n",
    "for tweet in searched_tweets:\n",
    "    tweet_json = tweet._json\n",
    "    tweet_text = tweet_json['text']\n",
    "    created = tweet_json['created_at']\n",
    "    row = [created, tweet_text]\n",
    "    series = pd.Series(row, index=df.columns) #  created, tweet_text로 시리즈를 생성\n",
    "    df = df.append(series, ignore_index=True) # 생성된 시리즈를 데이터프레임에 추가\n",
    "    \n",
    "# 데이터 프레임 상위 5개 출력\n",
    "df.head()"
   ]
  },
  {
   "cell_type": "code",
   "execution_count": 11,
   "id": "ff9adc70",
   "metadata": {},
   "outputs": [],
   "source": [
    "# 데이터 프레임을 csv 로 저장\n",
    "# df.to_csv(\"tweet_temp.csv\", index=False)"
   ]
  },
  {
   "cell_type": "markdown",
   "id": "8e72764d",
   "metadata": {},
   "source": [
    "# <Step2. 추출> : 키워드 추출"
   ]
  },
  {
   "cell_type": "markdown",
   "id": "51587fa2",
   "metadata": {},
   "source": [
    "### [텍스트 데이터 전처리]\n",
    "- 한글 문자열을 기준으로 키워드 추출 수행\n",
    "- tweet_text 데이터에서 한글 문자열만을 추출하여 ko_text 생성"
   ]
  },
  {
   "cell_type": "code",
   "execution_count": 16,
   "id": "bc833534",
   "metadata": {},
   "outputs": [
    {
     "data": {
      "text/html": [
       "<div>\n",
       "<style scoped>\n",
       "    .dataframe tbody tr th:only-of-type {\n",
       "        vertical-align: middle;\n",
       "    }\n",
       "\n",
       "    .dataframe tbody tr th {\n",
       "        vertical-align: top;\n",
       "    }\n",
       "\n",
       "    .dataframe thead th {\n",
       "        text-align: right;\n",
       "    }\n",
       "</style>\n",
       "<table border=\"1\" class=\"dataframe\">\n",
       "  <thead>\n",
       "    <tr style=\"text-align: right;\">\n",
       "      <th></th>\n",
       "      <th>created</th>\n",
       "      <th>tweet_text</th>\n",
       "      <th>ko_text</th>\n",
       "    </tr>\n",
       "  </thead>\n",
       "  <tbody>\n",
       "    <tr>\n",
       "      <th>0</th>\n",
       "      <td>Fri Feb 04 05:33:46 +0000 2022</td>\n",
       "      <td>RT @yonhaptweet: 한국 여자축구, 사상 첫 아시안컵 결승 진출…필리핀에...</td>\n",
       "      <td>한국 여자축구 사상 첫 아시안컵 결승 진출필리핀에  완승</td>\n",
       "    </tr>\n",
       "    <tr>\n",
       "      <th>1</th>\n",
       "      <td>Fri Feb 04 05:33:46 +0000 2022</td>\n",
       "      <td>RT @pos_ms9700: 아... 축구선수 김서누... 월드컵 4강에서 첫 골 ...</td>\n",
       "      <td>아 축구선수 김서누 월드컵 강에서 첫 골 넣고상의 들어올려서 배 까는 세리머니 ...</td>\n",
       "    </tr>\n",
       "    <tr>\n",
       "      <th>2</th>\n",
       "      <td>Fri Feb 04 05:33:43 +0000 2022</td>\n",
       "      <td>RT @wikitree: [속보] 여자 축구가 일냈다…사상 첫 아시안컵 '결승' 진...</td>\n",
       "      <td>속보 여자 축구가 일냈다사상 첫 아시안컵 결승 진출  위키트리</td>\n",
       "    </tr>\n",
       "    <tr>\n",
       "      <th>3</th>\n",
       "      <td>Fri Feb 04 05:33:34 +0000 2022</td>\n",
       "      <td>꿈에서 오사무랑 켄마랑 축구함..ㅋㅋㅋㅋㅋㅋㅋㅋㅋㅋㅋㅋㅋㅋㅋㅋㅋㅋㅋㅋㅋㅋㅋㅋㅋㅋㅋㅋ...</td>\n",
       "      <td>꿈에서 오사무랑 켄마랑 축구함ㅋㅋㅋㅋㅋㅋㅋㅋㅋㅋㅋㅋㅋㅋㅋㅋㅋㅋㅋㅋㅋㅋㅋㅋㅋㅋㅋㅋㅋㅋ...</td>\n",
       "    </tr>\n",
       "    <tr>\n",
       "      <th>4</th>\n",
       "      <td>Fri Feb 04 05:33:25 +0000 2022</td>\n",
       "      <td>고액\\n안ㅁㅏㅋ톡플러스친구\\n박은영스웨디시소녀\\n섹트\\n팬티\\n서울\\n깡\\n축구집관...</td>\n",
       "      <td>고액안ㅁㅏㅋ톡플러스친구박은영스웨디시소녀섹트팬티서울깡축구집관영등포살빼는중아빠와딸</td>\n",
       "    </tr>\n",
       "  </tbody>\n",
       "</table>\n",
       "</div>"
      ],
      "text/plain": [
       "                          created  \\\n",
       "0  Fri Feb 04 05:33:46 +0000 2022   \n",
       "1  Fri Feb 04 05:33:46 +0000 2022   \n",
       "2  Fri Feb 04 05:33:43 +0000 2022   \n",
       "3  Fri Feb 04 05:33:34 +0000 2022   \n",
       "4  Fri Feb 04 05:33:25 +0000 2022   \n",
       "\n",
       "                                          tweet_text  \\\n",
       "0  RT @yonhaptweet: 한국 여자축구, 사상 첫 아시안컵 결승 진출…필리핀에...   \n",
       "1  RT @pos_ms9700: 아... 축구선수 김서누... 월드컵 4강에서 첫 골 ...   \n",
       "2  RT @wikitree: [속보] 여자 축구가 일냈다…사상 첫 아시안컵 '결승' 진...   \n",
       "3  꿈에서 오사무랑 켄마랑 축구함..ㅋㅋㅋㅋㅋㅋㅋㅋㅋㅋㅋㅋㅋㅋㅋㅋㅋㅋㅋㅋㅋㅋㅋㅋㅋㅋㅋㅋ...   \n",
       "4  고액\\n안ㅁㅏㅋ톡플러스친구\\n박은영스웨디시소녀\\n섹트\\n팬티\\n서울\\n깡\\n축구집관...   \n",
       "\n",
       "                                             ko_text  \n",
       "0                   한국 여자축구 사상 첫 아시안컵 결승 진출필리핀에  완승   \n",
       "1    아 축구선수 김서누 월드컵 강에서 첫 골 넣고상의 들어올려서 배 까는 세리머니 ...  \n",
       "2                 속보 여자 축구가 일냈다사상 첫 아시안컵 결승 진출  위키트리  \n",
       "3  꿈에서 오사무랑 켄마랑 축구함ㅋㅋㅋㅋㅋㅋㅋㅋㅋㅋㅋㅋㅋㅋㅋㅋㅋㅋㅋㅋㅋㅋㅋㅋㅋㅋㅋㅋㅋㅋ...  \n",
       "4       고액안ㅁㅏㅋ톡플러스친구박은영스웨디시소녀섹트팬티서울깡축구집관영등포살빼는중아빠와딸   "
      ]
     },
     "execution_count": 16,
     "metadata": {},
     "output_type": "execute_result"
    }
   ],
   "source": [
    "import re\n",
    "\n",
    "# 텍스트 정제 함수 : 한글 및 띄어쓰기 이외의 문자는 전부 제거\n",
    "def text_cleaning(text):\n",
    "    hangul = re.compile('[^ ㄱ-ㅣ가-힣]+') # 한글의 정규표현식\n",
    "    result = hangul.sub('', text)\n",
    "    return result\n",
    "\n",
    "# 텍스트 정제 함수text_cleaning()를 ‘tweet_text’ 피처에 이를 적용, 한글과 띄어쓰기만 추출하여 ko_text 피처 생성\n",
    "df['ko_text'] = df['tweet_text'].apply(lambda x: text_cleaning(x))\n",
    "df.head()"
   ]
  },
  {
   "cell_type": "markdown",
   "id": "5512c9fb",
   "metadata": {},
   "source": [
    "### [konlpy를 이용한 명사 키워드 추출]\n",
    "- 명사만 추출한 후 불용어 및 한글자 키워드 제거"
   ]
  },
  {
   "cell_type": "code",
   "execution_count": 28,
   "id": "c71f9f63",
   "metadata": {},
   "outputs": [
    {
     "name": "stdout",
     "output_type": "stream",
     "text": [
      "(100, 4)\n"
     ]
    },
    {
     "data": {
      "text/html": [
       "<div>\n",
       "<style scoped>\n",
       "    .dataframe tbody tr th:only-of-type {\n",
       "        vertical-align: middle;\n",
       "    }\n",
       "\n",
       "    .dataframe tbody tr th {\n",
       "        vertical-align: top;\n",
       "    }\n",
       "\n",
       "    .dataframe thead th {\n",
       "        text-align: right;\n",
       "    }\n",
       "</style>\n",
       "<table border=\"1\" class=\"dataframe\">\n",
       "  <thead>\n",
       "    <tr style=\"text-align: right;\">\n",
       "      <th></th>\n",
       "      <th>created</th>\n",
       "      <th>tweet_text</th>\n",
       "      <th>ko_text</th>\n",
       "      <th>nouns</th>\n",
       "    </tr>\n",
       "  </thead>\n",
       "  <tbody>\n",
       "    <tr>\n",
       "      <th>0</th>\n",
       "      <td>Fri Feb 04 05:33:46 +0000 2022</td>\n",
       "      <td>RT @yonhaptweet: 한국 여자축구, 사상 첫 아시안컵 결승 진출…필리핀에...</td>\n",
       "      <td>한국 여자축구 사상 첫 아시안컵 결승 진출필리핀에  완승</td>\n",
       "      <td>[한국, 여자, 축구, 사상, 아시안컵, 결승, 진출, 필리핀, 완승]</td>\n",
       "    </tr>\n",
       "    <tr>\n",
       "      <th>1</th>\n",
       "      <td>Fri Feb 04 05:33:46 +0000 2022</td>\n",
       "      <td>RT @pos_ms9700: 아... 축구선수 김서누... 월드컵 4강에서 첫 골 ...</td>\n",
       "      <td>아 축구선수 김서누 월드컵 강에서 첫 골 넣고상의 들어올려서 배 까는 세리머니 ...</td>\n",
       "      <td>[축구선수, 서누, 월드컵, 상의, 세리머니, 상상, 결혼, 하트, 상상, 시차, ...</td>\n",
       "    </tr>\n",
       "    <tr>\n",
       "      <th>2</th>\n",
       "      <td>Fri Feb 04 05:33:43 +0000 2022</td>\n",
       "      <td>RT @wikitree: [속보] 여자 축구가 일냈다…사상 첫 아시안컵 '결승' 진...</td>\n",
       "      <td>속보 여자 축구가 일냈다사상 첫 아시안컵 결승 진출  위키트리</td>\n",
       "      <td>[속보, 여자, 축구, 사상, 아시안컵, 결승, 진출, 위키트리]</td>\n",
       "    </tr>\n",
       "    <tr>\n",
       "      <th>3</th>\n",
       "      <td>Fri Feb 04 05:33:34 +0000 2022</td>\n",
       "      <td>꿈에서 오사무랑 켄마랑 축구함..ㅋㅋㅋㅋㅋㅋㅋㅋㅋㅋㅋㅋㅋㅋㅋㅋㅋㅋㅋㅋㅋㅋㅋㅋㅋㅋㅋㅋ...</td>\n",
       "      <td>꿈에서 오사무랑 켄마랑 축구함ㅋㅋㅋㅋㅋㅋㅋㅋㅋㅋㅋㅋㅋㅋㅋㅋㅋㅋㅋㅋㅋㅋㅋㅋㅋㅋㅋㅋㅋㅋ...</td>\n",
       "      <td>[사무, 마랑, 축구, 하이큐, 처음]</td>\n",
       "    </tr>\n",
       "    <tr>\n",
       "      <th>4</th>\n",
       "      <td>Fri Feb 04 05:33:25 +0000 2022</td>\n",
       "      <td>고액\\n안ㅁㅏㅋ톡플러스친구\\n박은영스웨디시소녀\\n섹트\\n팬티\\n서울\\n깡\\n축구집관...</td>\n",
       "      <td>고액안ㅁㅏㅋ톡플러스친구박은영스웨디시소녀섹트팬티서울깡축구집관영등포살빼는중아빠와딸</td>\n",
       "      <td>[고액, 플러스, 친구, 박은영, 스웨디시, 소녀, 섹트, 팬티, 서울, 축구, 집...</td>\n",
       "    </tr>\n",
       "  </tbody>\n",
       "</table>\n",
       "</div>"
      ],
      "text/plain": [
       "                          created  \\\n",
       "0  Fri Feb 04 05:33:46 +0000 2022   \n",
       "1  Fri Feb 04 05:33:46 +0000 2022   \n",
       "2  Fri Feb 04 05:33:43 +0000 2022   \n",
       "3  Fri Feb 04 05:33:34 +0000 2022   \n",
       "4  Fri Feb 04 05:33:25 +0000 2022   \n",
       "\n",
       "                                          tweet_text  \\\n",
       "0  RT @yonhaptweet: 한국 여자축구, 사상 첫 아시안컵 결승 진출…필리핀에...   \n",
       "1  RT @pos_ms9700: 아... 축구선수 김서누... 월드컵 4강에서 첫 골 ...   \n",
       "2  RT @wikitree: [속보] 여자 축구가 일냈다…사상 첫 아시안컵 '결승' 진...   \n",
       "3  꿈에서 오사무랑 켄마랑 축구함..ㅋㅋㅋㅋㅋㅋㅋㅋㅋㅋㅋㅋㅋㅋㅋㅋㅋㅋㅋㅋㅋㅋㅋㅋㅋㅋㅋㅋ...   \n",
       "4  고액\\n안ㅁㅏㅋ톡플러스친구\\n박은영스웨디시소녀\\n섹트\\n팬티\\n서울\\n깡\\n축구집관...   \n",
       "\n",
       "                                             ko_text  \\\n",
       "0                   한국 여자축구 사상 첫 아시안컵 결승 진출필리핀에  완승    \n",
       "1    아 축구선수 김서누 월드컵 강에서 첫 골 넣고상의 들어올려서 배 까는 세리머니 ...   \n",
       "2                 속보 여자 축구가 일냈다사상 첫 아시안컵 결승 진출  위키트리   \n",
       "3  꿈에서 오사무랑 켄마랑 축구함ㅋㅋㅋㅋㅋㅋㅋㅋㅋㅋㅋㅋㅋㅋㅋㅋㅋㅋㅋㅋㅋㅋㅋㅋㅋㅋㅋㅋㅋㅋ...   \n",
       "4       고액안ㅁㅏㅋ톡플러스친구박은영스웨디시소녀섹트팬티서울깡축구집관영등포살빼는중아빠와딸    \n",
       "\n",
       "                                               nouns  \n",
       "0            [한국, 여자, 축구, 사상, 아시안컵, 결승, 진출, 필리핀, 완승]  \n",
       "1  [축구선수, 서누, 월드컵, 상의, 세리머니, 상상, 결혼, 하트, 상상, 시차, ...  \n",
       "2               [속보, 여자, 축구, 사상, 아시안컵, 결승, 진출, 위키트리]  \n",
       "3                              [사무, 마랑, 축구, 하이큐, 처음]  \n",
       "4  [고액, 플러스, 친구, 박은영, 스웨디시, 소녀, 섹트, 팬티, 서울, 축구, 집...  "
      ]
     },
     "execution_count": 28,
     "metadata": {},
     "output_type": "execute_result"
    }
   ],
   "source": [
    "from konlpy.tag import Okt\n",
    "from collections import Counter\n",
    "\n",
    "# 불용어 사전(korean_stopwords.txt)의 텍스트 문서 읽어 stopwords 리스트 생성\n",
    "korean_stopwords_path =\"korean_stopwords.txt\"\n",
    "with open(korean_stopwords_path, encoding='utf8') as f:\n",
    "    stopwords = f.readlines()\n",
    "stopwords = [x.strip() for x in stopwords] # strip()으로 공백 및 줄바꿈 제거\n",
    "\n",
    "# 품사 중 명사만 추출하여 한글자 키워드 및 불용어 제거\n",
    "# Okt(Open Korean Text)는 트위터에서 만든 오픈소스 한국어 처리기인 twitter-korean-text를 이어받아 만들고 있는 프로젝트\n",
    "def get_nouns(x):\n",
    "    nouns_tagger = Okt() # Okt()클래스 선언\n",
    "    nouns = nouns_tagger.nouns(x)\n",
    "    \n",
    "    # 한글자 키워드 제거\n",
    "    nouns = [noun for noun in nouns if len(noun) > 1]\n",
    "    \n",
    "    # 불용어를 제거\n",
    "    nouns = [noun for noun in nouns if noun not in stopwords]\n",
    "    \n",
    "    return nouns\n",
    "\n",
    "# ‘ko_text’ 피처에 get_nouns() 함수를 적용하여 불용어 및 한글자를 제거한 명사 추출하여 'nouns' 피처 생성\n",
    "df['nouns'] = df['ko_text'].apply(lambda x: get_nouns(x))\n",
    "print(df.shape) # 행과 열의 갯수를 튜플로 반환\n",
    "df.head()\n"
   ]
  },
  {
   "cell_type": "markdown",
   "id": "25fff56b",
   "metadata": {},
   "source": [
    "# <Step3. 분석> : 연관 분석을 이용한 키워드 분석"
   ]
  },
  {
   "cell_type": "markdown",
   "id": "127db04e",
   "metadata": {},
   "source": [
    "### [연관 키워드 추출하기]\n",
    "### [연관 규칙]\n",
    "- 연관규칙 (아프리오리, Apriori 알고리즘) https://blog.naver.com/zzz90zzz/221807210555\n",
    "- 연관규칙은 비지도학습으로 대규모 거래 데이터로 부터 함께 구매될 규칙을 도출하여 고객이 특정 상품 구매시 이와 연관성이 높은 상품을 추천하는 것\n",
    "- Apriori 알고리즘 : 간단한 성능 측정치를 이용해 거대한 DB에서 데이터간의 연관성을 찾는 알고리즘\n",
    "#### [ 연관규칙에서 사용하는 3가지 통계척도 ]\n",
    "- 1. 지지도 (support)  : 특정 아이템이 데이터에서 발생하는 빈도 \n",
    "- 2. 신뢰도 (confidence) : 두 아이템의 연관규칙이 유용한 규칙일 가능성의 척도 \n",
    "- 3. 향상도 (lift) : 두 아이템의 연관 규칙이 우연인지 아닌지를 나타내는 척도 "
   ]
  },
  {
   "cell_type": "markdown",
   "id": "908b7382",
   "metadata": {},
   "source": [
    "### Apriori 라이브러리 설치"
   ]
  },
  {
   "cell_type": "code",
   "execution_count": 27,
   "id": "e2c21318",
   "metadata": {},
   "outputs": [
    {
     "name": "stdout",
     "output_type": "stream",
     "text": [
      "Requirement already satisfied: apriori in c:\\users\\yj\\anaconda3\\lib\\site-packages (1.0.0)\n",
      "Requirement already satisfied: apyori in c:\\users\\yj\\anaconda3\\lib\\site-packages (1.1.2)\n"
     ]
    }
   ],
   "source": [
    "!pip install apriori apyori"
   ]
  },
  {
   "cell_type": "code",
   "execution_count": null,
   "id": "ca0dacca",
   "metadata": {},
   "outputs": [],
   "source": [
    "##### 연관 분석 연습\n",
    "from apyori import apriori"
   ]
  }
 ],
 "metadata": {
  "kernelspec": {
   "display_name": "Python 3 (ipykernel)",
   "language": "python",
   "name": "python3"
  },
  "language_info": {
   "codemirror_mode": {
    "name": "ipython",
    "version": 3
   },
   "file_extension": ".py",
   "mimetype": "text/x-python",
   "name": "python",
   "nbconvert_exporter": "python",
   "pygments_lexer": "ipython3",
   "version": "3.9.7"
  }
 },
 "nbformat": 4,
 "nbformat_minor": 5
}
